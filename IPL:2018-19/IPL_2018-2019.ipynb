{
 "cells": [
  {
   "cell_type": "markdown",
   "id": "f282dce2",
   "metadata": {},
   "source": [
    "# Understanding Dataset\n",
    "* Id : Unique number given to each row\n",
    "* Season : IPL seasons in which a particular match was played\n",
    "* City : Name of the cities in which a particular match was played\n",
    "* Date : Date of the match\n",
    "* Team1,Team2 : Name of the team playing the match\n",
    "* Toss_Winner : Name of the team who won the toss.\n",
    "* Toss_decission : Wheather the winning team choose field or bat\n",
    "* Result : Result of the match\n",
    "* DL_applied : Wheather dl is applied or not(0,1)\n",
    "* Winner : Winner of the match\n",
    "* Win_by_runs,Win_by_wickets : Margin of win\n",
    "* Player_of _the_match : Man of the match title\n",
    "* Venue : Name of the stadium where match was played\n",
    "* Umpire1,Umpire2,Umpire3 : Name of the umpires"
   ]
  },
  {
   "cell_type": "code",
   "execution_count": 1,
   "id": "3497daad",
   "metadata": {},
   "outputs": [
    {
     "name": "stdout",
     "output_type": "stream",
     "text": [
      "Requirement already satisfied: ipywidgets in c:\\users\\user\\anaconda3\\lib\\site-packages (7.6.3)\n",
      "Requirement already satisfied: jupyterlab-widgets>=1.0.0 in c:\\users\\user\\anaconda3\\lib\\site-packages (from ipywidgets) (1.0.0)\n",
      "Requirement already satisfied: widgetsnbextension~=3.5.0 in c:\\users\\user\\anaconda3\\lib\\site-packages (from ipywidgets) (3.5.1)\n",
      "Requirement already satisfied: nbformat>=4.2.0 in c:\\users\\user\\anaconda3\\lib\\site-packages (from ipywidgets) (5.1.3)\n",
      "Requirement already satisfied: ipython>=4.0.0 in c:\\users\\user\\anaconda3\\lib\\site-packages (from ipywidgets) (7.22.0)\n",
      "Requirement already satisfied: traitlets>=4.3.1 in c:\\users\\user\\anaconda3\\lib\\site-packages (from ipywidgets) (5.0.5)\n",
      "Requirement already satisfied: ipykernel>=4.5.1 in c:\\users\\user\\anaconda3\\lib\\site-packages (from ipywidgets) (5.3.4)\n",
      "Requirement already satisfied: jupyter-client in c:\\users\\user\\anaconda3\\lib\\site-packages (from ipykernel>=4.5.1->ipywidgets) (6.1.12)\n",
      "Requirement already satisfied: tornado>=4.2 in c:\\users\\user\\anaconda3\\lib\\site-packages (from ipykernel>=4.5.1->ipywidgets) (6.1)\n",
      "Requirement already satisfied: setuptools>=18.5 in c:\\users\\user\\anaconda3\\lib\\site-packages (from ipython>=4.0.0->ipywidgets) (52.0.0.post20210125)\n",
      "Requirement already satisfied: prompt-toolkit!=3.0.0,!=3.0.1,<3.1.0,>=2.0.0 in c:\\users\\user\\anaconda3\\lib\\site-packages (from ipython>=4.0.0->ipywidgets) (3.0.17)\n",
      "Requirement already satisfied: jedi>=0.16 in c:\\users\\user\\anaconda3\\lib\\site-packages (from ipython>=4.0.0->ipywidgets) (0.17.2)\n",
      "Requirement already satisfied: pygments in c:\\users\\user\\anaconda3\\lib\\site-packages (from ipython>=4.0.0->ipywidgets) (2.8.1)\n",
      "Requirement already satisfied: backcall in c:\\users\\user\\anaconda3\\lib\\site-packages (from ipython>=4.0.0->ipywidgets) (0.2.0)\n",
      "Requirement already satisfied: colorama in c:\\users\\user\\anaconda3\\lib\\site-packages (from ipython>=4.0.0->ipywidgets) (0.4.4)\n",
      "Requirement already satisfied: pickleshare in c:\\users\\user\\anaconda3\\lib\\site-packages (from ipython>=4.0.0->ipywidgets) (0.7.5)\n",
      "Requirement already satisfied: decorator in c:\\users\\user\\anaconda3\\lib\\site-packages (from ipython>=4.0.0->ipywidgets) (5.0.6)\n",
      "Requirement already satisfied: parso<0.8.0,>=0.7.0 in c:\\users\\user\\anaconda3\\lib\\site-packages (from jedi>=0.16->ipython>=4.0.0->ipywidgets) (0.7.0)\n",
      "Requirement already satisfied: jsonschema!=2.5.0,>=2.4 in c:\\users\\user\\anaconda3\\lib\\site-packages (from nbformat>=4.2.0->ipywidgets) (3.2.0)\n",
      "Requirement already satisfied: ipython-genutils in c:\\users\\user\\anaconda3\\lib\\site-packages (from nbformat>=4.2.0->ipywidgets) (0.2.0)\n",
      "Requirement already satisfied: jupyter-core in c:\\users\\user\\anaconda3\\lib\\site-packages (from nbformat>=4.2.0->ipywidgets) (4.7.1)\n",
      "Requirement already satisfied: attrs>=17.4.0 in c:\\users\\user\\anaconda3\\lib\\site-packages (from jsonschema!=2.5.0,>=2.4->nbformat>=4.2.0->ipywidgets) (20.3.0)\n",
      "Requirement already satisfied: six>=1.11.0 in c:\\users\\user\\anaconda3\\lib\\site-packages (from jsonschema!=2.5.0,>=2.4->nbformat>=4.2.0->ipywidgets) (1.15.0)\n",
      "Requirement already satisfied: pyrsistent>=0.14.0 in c:\\users\\user\\anaconda3\\lib\\site-packages (from jsonschema!=2.5.0,>=2.4->nbformat>=4.2.0->ipywidgets) (0.17.3)\n",
      "Requirement already satisfied: wcwidth in c:\\users\\user\\anaconda3\\lib\\site-packages (from prompt-toolkit!=3.0.0,!=3.0.1,<3.1.0,>=2.0.0->ipython>=4.0.0->ipywidgets) (0.2.5)\n",
      "Requirement already satisfied: notebook>=4.4.1 in c:\\users\\user\\anaconda3\\lib\\site-packages (from widgetsnbextension~=3.5.0->ipywidgets) (6.3.0)\n",
      "Requirement already satisfied: argon2-cffi in c:\\users\\user\\anaconda3\\lib\\site-packages (from notebook>=4.4.1->widgetsnbextension~=3.5.0->ipywidgets) (20.1.0)\n",
      "Requirement already satisfied: jinja2 in c:\\users\\user\\anaconda3\\lib\\site-packages (from notebook>=4.4.1->widgetsnbextension~=3.5.0->ipywidgets) (2.11.3)\n",
      "Requirement already satisfied: Send2Trash>=1.5.0 in c:\\users\\user\\anaconda3\\lib\\site-packages (from notebook>=4.4.1->widgetsnbextension~=3.5.0->ipywidgets) (1.5.0)\n",
      "Requirement already satisfied: pyzmq>=17 in c:\\users\\user\\anaconda3\\lib\\site-packages (from notebook>=4.4.1->widgetsnbextension~=3.5.0->ipywidgets) (20.0.0)\n",
      "Requirement already satisfied: prometheus-client in c:\\users\\user\\anaconda3\\lib\\site-packages (from notebook>=4.4.1->widgetsnbextension~=3.5.0->ipywidgets) (0.10.1)\n",
      "Requirement already satisfied: nbconvert in c:\\users\\user\\anaconda3\\lib\\site-packages (from notebook>=4.4.1->widgetsnbextension~=3.5.0->ipywidgets) (6.0.7)\n",
      "Requirement already satisfied: terminado>=0.8.3 in c:\\users\\user\\anaconda3\\lib\\site-packages (from notebook>=4.4.1->widgetsnbextension~=3.5.0->ipywidgets) (0.9.4)\n",
      "Requirement already satisfied: python-dateutil>=2.1 in c:\\users\\user\\anaconda3\\lib\\site-packages (from jupyter-client->ipykernel>=4.5.1->ipywidgets) (2.8.1)\n",
      "Requirement already satisfied: pywin32>=1.0 in c:\\users\\user\\anaconda3\\lib\\site-packages (from jupyter-core->nbformat>=4.2.0->ipywidgets) (227)\n",
      "Requirement already satisfied: pywinpty>=0.5 in c:\\users\\user\\anaconda3\\lib\\site-packages (from terminado>=0.8.3->notebook>=4.4.1->widgetsnbextension~=3.5.0->ipywidgets) (0.5.7)\n",
      "Requirement already satisfied: cffi>=1.0.0 in c:\\users\\user\\anaconda3\\lib\\site-packages (from argon2-cffi->notebook>=4.4.1->widgetsnbextension~=3.5.0->ipywidgets) (1.14.5)\n",
      "Requirement already satisfied: pycparser in c:\\users\\user\\anaconda3\\lib\\site-packages (from cffi>=1.0.0->argon2-cffi->notebook>=4.4.1->widgetsnbextension~=3.5.0->ipywidgets) (2.20)\n",
      "Requirement already satisfied: MarkupSafe>=0.23 in c:\\users\\user\\anaconda3\\lib\\site-packages (from jinja2->notebook>=4.4.1->widgetsnbextension~=3.5.0->ipywidgets) (1.1.1)\n",
      "Requirement already satisfied: entrypoints>=0.2.2 in c:\\users\\user\\anaconda3\\lib\\site-packages (from nbconvert->notebook>=4.4.1->widgetsnbextension~=3.5.0->ipywidgets) (0.3)\n",
      "Requirement already satisfied: defusedxml in c:\\users\\user\\anaconda3\\lib\\site-packages (from nbconvert->notebook>=4.4.1->widgetsnbextension~=3.5.0->ipywidgets) (0.7.1)\n",
      "Requirement already satisfied: bleach in c:\\users\\user\\anaconda3\\lib\\site-packages (from nbconvert->notebook>=4.4.1->widgetsnbextension~=3.5.0->ipywidgets) (3.3.0)\n",
      "Requirement already satisfied: nbclient<0.6.0,>=0.5.0 in c:\\users\\user\\anaconda3\\lib\\site-packages (from nbconvert->notebook>=4.4.1->widgetsnbextension~=3.5.0->ipywidgets) (0.5.3)\n",
      "Requirement already satisfied: mistune<2,>=0.8.1 in c:\\users\\user\\anaconda3\\lib\\site-packages (from nbconvert->notebook>=4.4.1->widgetsnbextension~=3.5.0->ipywidgets) (0.8.4)\n",
      "Requirement already satisfied: testpath in c:\\users\\user\\anaconda3\\lib\\site-packages (from nbconvert->notebook>=4.4.1->widgetsnbextension~=3.5.0->ipywidgets) (0.4.4)\n",
      "Requirement already satisfied: pandocfilters>=1.4.1 in c:\\users\\user\\anaconda3\\lib\\site-packages (from nbconvert->notebook>=4.4.1->widgetsnbextension~=3.5.0->ipywidgets) (1.4.3)\n",
      "Requirement already satisfied: jupyterlab-pygments in c:\\users\\user\\anaconda3\\lib\\site-packages (from nbconvert->notebook>=4.4.1->widgetsnbextension~=3.5.0->ipywidgets) (0.1.2)\n",
      "Requirement already satisfied: nest-asyncio in c:\\users\\user\\anaconda3\\lib\\site-packages (from nbclient<0.6.0,>=0.5.0->nbconvert->notebook>=4.4.1->widgetsnbextension~=3.5.0->ipywidgets) (1.5.1)\n",
      "Requirement already satisfied: async-generator in c:\\users\\user\\anaconda3\\lib\\site-packages (from nbclient<0.6.0,>=0.5.0->nbconvert->notebook>=4.4.1->widgetsnbextension~=3.5.0->ipywidgets) (1.10)\n",
      "Requirement already satisfied: packaging in c:\\users\\user\\anaconda3\\lib\\site-packages (from bleach->nbconvert->notebook>=4.4.1->widgetsnbextension~=3.5.0->ipywidgets) (20.9)\n",
      "Requirement already satisfied: webencodings in c:\\users\\user\\anaconda3\\lib\\site-packages (from bleach->nbconvert->notebook>=4.4.1->widgetsnbextension~=3.5.0->ipywidgets) (0.5.1)\n",
      "Requirement already satisfied: pyparsing>=2.0.2 in c:\\users\\user\\anaconda3\\lib\\site-packages (from packaging->bleach->nbconvert->notebook>=4.4.1->widgetsnbextension~=3.5.0->ipywidgets) (2.4.7)\n"
     ]
    }
   ],
   "source": [
    "!pip install ipywidgets"
   ]
  },
  {
   "cell_type": "code",
   "execution_count": 2,
   "id": "d3ead62a",
   "metadata": {},
   "outputs": [],
   "source": [
    "import pandas as pd\n",
    "import numpy as np\n",
    "import matplotlib.pyplot as plt\n",
    "import seaborn as sns\n",
    "from ipywidgets import *\n",
    "\n",
    "plt.style.use('fivethirtyeight')"
   ]
  },
  {
   "cell_type": "code",
   "execution_count": 3,
   "id": "383357f3",
   "metadata": {},
   "outputs": [
    {
     "data": {
      "text/plain": [
       "['Solarize_Light2',\n",
       " '_classic_test_patch',\n",
       " 'bmh',\n",
       " 'classic',\n",
       " 'dark_background',\n",
       " 'fast',\n",
       " 'fivethirtyeight',\n",
       " 'ggplot',\n",
       " 'grayscale',\n",
       " 'seaborn',\n",
       " 'seaborn-bright',\n",
       " 'seaborn-colorblind',\n",
       " 'seaborn-dark',\n",
       " 'seaborn-dark-palette',\n",
       " 'seaborn-darkgrid',\n",
       " 'seaborn-deep',\n",
       " 'seaborn-muted',\n",
       " 'seaborn-notebook',\n",
       " 'seaborn-paper',\n",
       " 'seaborn-pastel',\n",
       " 'seaborn-poster',\n",
       " 'seaborn-talk',\n",
       " 'seaborn-ticks',\n",
       " 'seaborn-white',\n",
       " 'seaborn-whitegrid',\n",
       " 'tableau-colorblind10']"
      ]
     },
     "execution_count": 3,
     "metadata": {},
     "output_type": "execute_result"
    }
   ],
   "source": [
    "# Checking style fonts\n",
    "plt.style.available"
   ]
  },
  {
   "cell_type": "code",
   "execution_count": 4,
   "id": "e82c5b32",
   "metadata": {},
   "outputs": [
    {
     "name": "stdout",
     "output_type": "stream",
     "text": [
      "Shape of the Matches Dataset : (756, 18)\n"
     ]
    }
   ],
   "source": [
    "matches = pd.read_csv('matches+-+matches.csv')\n",
    "print(\"Shape of the Matches Dataset :\",matches.shape)"
   ]
  },
  {
   "cell_type": "code",
   "execution_count": 5,
   "id": "a5f844cd",
   "metadata": {},
   "outputs": [
    {
     "data": {
      "text/html": [
       "<div>\n",
       "<style scoped>\n",
       "    .dataframe tbody tr th:only-of-type {\n",
       "        vertical-align: middle;\n",
       "    }\n",
       "\n",
       "    .dataframe tbody tr th {\n",
       "        vertical-align: top;\n",
       "    }\n",
       "\n",
       "    .dataframe thead th {\n",
       "        text-align: right;\n",
       "    }\n",
       "</style>\n",
       "<table border=\"1\" class=\"dataframe\">\n",
       "  <thead>\n",
       "    <tr style=\"text-align: right;\">\n",
       "      <th></th>\n",
       "      <th>id</th>\n",
       "      <th>Season</th>\n",
       "      <th>city</th>\n",
       "      <th>date</th>\n",
       "      <th>team1</th>\n",
       "      <th>team2</th>\n",
       "      <th>toss_winner</th>\n",
       "      <th>toss_decision</th>\n",
       "      <th>result</th>\n",
       "      <th>dl_applied</th>\n",
       "      <th>winner</th>\n",
       "      <th>win_by_runs</th>\n",
       "      <th>win_by_wickets</th>\n",
       "      <th>player_of_match</th>\n",
       "      <th>venue</th>\n",
       "      <th>umpire1</th>\n",
       "      <th>umpire2</th>\n",
       "      <th>umpire3</th>\n",
       "    </tr>\n",
       "  </thead>\n",
       "  <tbody>\n",
       "    <tr>\n",
       "      <th>0</th>\n",
       "      <td>1</td>\n",
       "      <td>IPL-2017</td>\n",
       "      <td>Hyderabad</td>\n",
       "      <td>05-04-2017</td>\n",
       "      <td>Sunrisers Hyderabad</td>\n",
       "      <td>Royal Challengers Bangalore</td>\n",
       "      <td>Royal Challengers Bangalore</td>\n",
       "      <td>field</td>\n",
       "      <td>normal</td>\n",
       "      <td>0</td>\n",
       "      <td>Sunrisers Hyderabad</td>\n",
       "      <td>35</td>\n",
       "      <td>0</td>\n",
       "      <td>Yuvraj Singh</td>\n",
       "      <td>Rajiv Gandhi International Stadium, Uppal</td>\n",
       "      <td>AY Dandekar</td>\n",
       "      <td>NJ Llong</td>\n",
       "      <td>NaN</td>\n",
       "    </tr>\n",
       "    <tr>\n",
       "      <th>1</th>\n",
       "      <td>2</td>\n",
       "      <td>IPL-2017</td>\n",
       "      <td>Pune</td>\n",
       "      <td>06-04-2017</td>\n",
       "      <td>Mumbai Indians</td>\n",
       "      <td>Rising Pune Supergiant</td>\n",
       "      <td>Rising Pune Supergiant</td>\n",
       "      <td>field</td>\n",
       "      <td>normal</td>\n",
       "      <td>0</td>\n",
       "      <td>Rising Pune Supergiant</td>\n",
       "      <td>0</td>\n",
       "      <td>7</td>\n",
       "      <td>SPD Smith</td>\n",
       "      <td>Maharashtra Cricket Association Stadium</td>\n",
       "      <td>A Nand Kishore</td>\n",
       "      <td>S Ravi</td>\n",
       "      <td>NaN</td>\n",
       "    </tr>\n",
       "  </tbody>\n",
       "</table>\n",
       "</div>"
      ],
      "text/plain": [
       "   id    Season       city        date                team1  \\\n",
       "0   1  IPL-2017  Hyderabad  05-04-2017  Sunrisers Hyderabad   \n",
       "1   2  IPL-2017       Pune  06-04-2017       Mumbai Indians   \n",
       "\n",
       "                         team2                  toss_winner toss_decision  \\\n",
       "0  Royal Challengers Bangalore  Royal Challengers Bangalore         field   \n",
       "1       Rising Pune Supergiant       Rising Pune Supergiant         field   \n",
       "\n",
       "   result  dl_applied                  winner  win_by_runs  win_by_wickets  \\\n",
       "0  normal           0     Sunrisers Hyderabad           35               0   \n",
       "1  normal           0  Rising Pune Supergiant            0               7   \n",
       "\n",
       "  player_of_match                                      venue         umpire1  \\\n",
       "0    Yuvraj Singh  Rajiv Gandhi International Stadium, Uppal     AY Dandekar   \n",
       "1       SPD Smith    Maharashtra Cricket Association Stadium  A Nand Kishore   \n",
       "\n",
       "    umpire2 umpire3  \n",
       "0  NJ Llong     NaN  \n",
       "1    S Ravi     NaN  "
      ]
     },
     "execution_count": 5,
     "metadata": {},
     "output_type": "execute_result"
    }
   ],
   "source": [
    "matches.head(2)"
   ]
  },
  {
   "cell_type": "code",
   "execution_count": 6,
   "id": "79d5e57d",
   "metadata": {},
   "outputs": [
    {
     "data": {
      "text/plain": [
       "Index(['id', 'Season', 'city', 'date', 'team1', 'team2', 'toss_winner',\n",
       "       'toss_decision', 'result', 'dl_applied', 'winner', 'win_by_runs',\n",
       "       'win_by_wickets', 'player_of_match', 'venue', 'umpire1', 'umpire2',\n",
       "       'umpire3'],\n",
       "      dtype='object')"
      ]
     },
     "execution_count": 6,
     "metadata": {},
     "output_type": "execute_result"
    }
   ],
   "source": [
    "matches.columns"
   ]
  },
  {
   "cell_type": "markdown",
   "id": "06bfe975",
   "metadata": {},
   "source": [
    "### Summarzing the facts of the DataSet"
   ]
  },
  {
   "cell_type": "code",
   "execution_count": 7,
   "id": "b5dfa9ce",
   "metadata": {},
   "outputs": [
    {
     "name": "stdout",
     "output_type": "stream",
     "text": [
      "<class 'pandas.core.frame.DataFrame'>\n",
      "RangeIndex: 756 entries, 0 to 755\n",
      "Data columns (total 18 columns):\n",
      " #   Column           Non-Null Count  Dtype \n",
      "---  ------           --------------  ----- \n",
      " 0   id               756 non-null    int64 \n",
      " 1   Season           756 non-null    object\n",
      " 2   city             749 non-null    object\n",
      " 3   date             756 non-null    object\n",
      " 4   team1            756 non-null    object\n",
      " 5   team2            756 non-null    object\n",
      " 6   toss_winner      756 non-null    object\n",
      " 7   toss_decision    756 non-null    object\n",
      " 8   result           756 non-null    object\n",
      " 9   dl_applied       756 non-null    int64 \n",
      " 10  winner           752 non-null    object\n",
      " 11  win_by_runs      756 non-null    int64 \n",
      " 12  win_by_wickets   756 non-null    int64 \n",
      " 13  player_of_match  752 non-null    object\n",
      " 14  venue            756 non-null    object\n",
      " 15  umpire1          754 non-null    object\n",
      " 16  umpire2          754 non-null    object\n",
      " 17  umpire3          119 non-null    object\n",
      "dtypes: int64(4), object(14)\n",
      "memory usage: 106.4+ KB\n"
     ]
    }
   ],
   "source": [
    "matches.info()"
   ]
  },
  {
   "cell_type": "code",
   "execution_count": 8,
   "id": "69509896",
   "metadata": {},
   "outputs": [
    {
     "name": "stdout",
     "output_type": "stream",
     "text": [
      "<class 'pandas.core.frame.DataFrame'>\n",
      "RangeIndex: 756 entries, 0 to 755\n",
      "Data columns (total 18 columns):\n",
      " #   Column           Non-Null Count  Dtype \n",
      "---  ------           --------------  ----- \n",
      " 0   id               756 non-null    int64 \n",
      " 1   Season           756 non-null    object\n",
      " 2   city             749 non-null    object\n",
      " 3   date             756 non-null    object\n",
      " 4   team1            756 non-null    object\n",
      " 5   team2            756 non-null    object\n",
      " 6   toss_winner      756 non-null    object\n",
      " 7   toss_decision    756 non-null    object\n",
      " 8   result           756 non-null    object\n",
      " 9   dl_applied       756 non-null    int64 \n",
      " 10  winner           752 non-null    object\n",
      " 11  win_by_runs      756 non-null    int64 \n",
      " 12  win_by_wickets   756 non-null    int64 \n",
      " 13  player_of_match  752 non-null    object\n",
      " 14  venue            756 non-null    object\n",
      " 15  umpire1          754 non-null    object\n",
      " 16  umpire2          754 non-null    object\n",
      " 17  umpire3          119 non-null    object\n",
      "dtypes: int64(4), object(14)\n",
      "memory usage: 718.3 KB\n"
     ]
    }
   ],
   "source": [
    "matches.info(memory_usage = 'deep')"
   ]
  },
  {
   "cell_type": "markdown",
   "id": "c5a11dde",
   "metadata": {},
   "source": [
    "* Checking the Unique values"
   ]
  },
  {
   "cell_type": "code",
   "execution_count": 9,
   "id": "f13dcc4a",
   "metadata": {},
   "outputs": [
    {
     "data": {
      "text/plain": [
       "array(['Sunrisers Hyderabad', 'Mumbai Indians', 'Gujarat Lions',\n",
       "       'Rising Pune Supergiant', 'Royal Challengers Bangalore',\n",
       "       'Kolkata Knight Riders', 'Delhi Daredevils', 'Kings XI Punjab',\n",
       "       'Chennai Super Kings', 'Rajasthan Royals', 'Deccan Chargers',\n",
       "       'Kochi Tuskers Kerala', 'Pune Warriors', 'Rising Pune Supergiants',\n",
       "       'Delhi Capitals'], dtype=object)"
      ]
     },
     "execution_count": 9,
     "metadata": {},
     "output_type": "execute_result"
    }
   ],
   "source": [
    "matches['team1'].unique()"
   ]
  },
  {
   "cell_type": "code",
   "execution_count": 10,
   "id": "ca0b29ba",
   "metadata": {},
   "outputs": [
    {
     "data": {
      "text/plain": [
       "array(['IPL-2017', 'IPL-2008', 'IPL-2009', 'IPL-2010', 'IPL-2011',\n",
       "       'IPL-2012', 'IPL-2013', 'IPL-2014', 'IPL-2015', 'IPL-2016',\n",
       "       'IPL-2018', 'IPL-2019'], dtype=object)"
      ]
     },
     "execution_count": 10,
     "metadata": {},
     "output_type": "execute_result"
    }
   ],
   "source": [
    "matches['Season'].unique()"
   ]
  },
  {
   "cell_type": "code",
   "execution_count": 11,
   "id": "f01f0729",
   "metadata": {},
   "outputs": [
    {
     "data": {
      "text/plain": [
       "array(['Hyderabad', 'Pune', 'Rajkot', 'Indore', 'Bangalore', 'Mumbai',\n",
       "       'Kolkata', 'Delhi', 'Chandigarh', 'Kanpur', 'Jaipur', 'Chennai',\n",
       "       'Cape Town', 'Port Elizabeth', 'Durban', 'Centurion',\n",
       "       'East London', 'Johannesburg', 'Kimberley', 'Bloemfontein',\n",
       "       'Ahmedabad', 'Cuttack', 'Nagpur', 'Dharamsala', 'Kochi',\n",
       "       'Visakhapatnam', 'Raipur', 'Ranchi', 'Abu Dhabi', 'Sharjah', nan,\n",
       "       'Mohali', 'Bengaluru'], dtype=object)"
      ]
     },
     "execution_count": 11,
     "metadata": {},
     "output_type": "execute_result"
    }
   ],
   "source": [
    "matches['city'].unique()"
   ]
  },
  {
   "cell_type": "code",
   "execution_count": 12,
   "id": "4b0caa4d",
   "metadata": {},
   "outputs": [
    {
     "data": {
      "text/plain": [
       "array(['Rajiv Gandhi International Stadium, Uppal',\n",
       "       'Maharashtra Cricket Association Stadium',\n",
       "       'Saurashtra Cricket Association Stadium', 'Holkar Cricket Stadium',\n",
       "       'M Chinnaswamy Stadium', 'Wankhede Stadium', 'Eden Gardens',\n",
       "       'Feroz Shah Kotla',\n",
       "       'Punjab Cricket Association IS Bindra Stadium, Mohali',\n",
       "       'Green Park', 'Punjab Cricket Association Stadium, Mohali',\n",
       "       'Sawai Mansingh Stadium', 'MA Chidambaram Stadium, Chepauk',\n",
       "       'Dr DY Patil Sports Academy', 'Newlands', \"St George's Park\",\n",
       "       'Kingsmead', 'SuperSport Park', 'Buffalo Park',\n",
       "       'New Wanderers Stadium', 'De Beers Diamond Oval',\n",
       "       'OUTsurance Oval', 'Brabourne Stadium',\n",
       "       'Sardar Patel Stadium, Motera', 'Barabati Stadium',\n",
       "       'Vidarbha Cricket Association Stadium, Jamtha',\n",
       "       'Himachal Pradesh Cricket Association Stadium', 'Nehru Stadium',\n",
       "       'Dr. Y.S. Rajasekhara Reddy ACA-VDCA Cricket Stadium',\n",
       "       'Subrata Roy Sahara Stadium',\n",
       "       'Shaheed Veer Narayan Singh International Stadium',\n",
       "       'JSCA International Stadium Complex', 'Sheikh Zayed Stadium',\n",
       "       'Sharjah Cricket Stadium', 'Dubai International Cricket Stadium',\n",
       "       'M. A. Chidambaram Stadium', 'Feroz Shah Kotla Ground',\n",
       "       'M. Chinnaswamy Stadium', 'Rajiv Gandhi Intl. Cricket Stadium',\n",
       "       'IS Bindra Stadium', 'ACA-VDCA Stadium'], dtype=object)"
      ]
     },
     "execution_count": 12,
     "metadata": {},
     "output_type": "execute_result"
    }
   ],
   "source": [
    "matches['venue'].unique()"
   ]
  },
  {
   "cell_type": "markdown",
   "id": "a110f284",
   "metadata": {},
   "source": [
    "# Counting the unique values"
   ]
  },
  {
   "cell_type": "code",
   "execution_count": 13,
   "id": "1e515d70",
   "metadata": {},
   "outputs": [
    {
     "name": "stdout",
     "output_type": "stream",
     "text": [
      "Total number of Teams : 15\n",
      "Total number of Seasons : 12\n",
      "Total number of Cities : 32\n",
      "Total number of Venues : 41\n"
     ]
    }
   ],
   "source": [
    "print(\"Total number of Teams :\",matches['team1'].nunique())\n",
    "print(\"Total number of Seasons :\",matches['Season'].nunique())\n",
    "print(\"Total number of Cities :\",matches['city'].nunique())\n",
    "print(\"Total number of Venues :\",matches['venue'].nunique())"
   ]
  },
  {
   "cell_type": "markdown",
   "id": "92fb50d7",
   "metadata": {},
   "source": [
    "# Lets replace the city columns by replcing the data"
   ]
  },
  {
   "cell_type": "code",
   "execution_count": 14,
   "id": "ea345b6c",
   "metadata": {},
   "outputs": [
    {
     "name": "stdout",
     "output_type": "stream",
     "text": [
      "{'East London', nan, 'Hyderabad', 'Visakhapatnam', 'Rajkot', 'Dharamsala', 'Port Elizabeth', 'Kolkata', 'Pune', 'Ahmedabad', 'Delhi', 'Raipur', 'Mumbai', 'Sharjah', 'Chandigarh', 'Mohali', 'Bloemfontein', 'Indore', 'Jaipur', 'Kimberley', 'Bangalore', 'Johannesburg', 'Kochi', 'Centurion', 'Kanpur', 'Chennai', 'Ranchi', 'Bengaluru', 'Cape Town', 'Cuttack', 'Abu Dhabi', 'Nagpur', 'Durban'}\n"
     ]
    }
   ],
   "source": [
    "cities = set(matches['city'].unique())\n",
    "print(cities)"
   ]
  },
  {
   "cell_type": "code",
   "execution_count": 15,
   "id": "3039964a",
   "metadata": {},
   "outputs": [
    {
     "name": "stdout",
     "output_type": "stream",
     "text": [
      "{'East London', nan, 'Hyderabad', 'Visakhapatnam', 'Rajkot', 'Dharamsala', 'Port Elizabeth', 'Kolkata', 'Pune', 'Ahmedabad', 'Delhi', 'Raipur', 'Mumbai', 'Sharjah', 'Chandigarh', 'Mohali', 'Bloemfontein', 'Indore', 'Jaipur', 'Kimberley', 'Kochi', 'Johannesburg', 'Centurion', 'Kanpur', 'Chennai', 'Ranchi', 'Bengaluru', 'Cape Town', 'Cuttack', 'Abu Dhabi', 'Nagpur', 'Durban'}\n"
     ]
    }
   ],
   "source": [
    "# As we observe that 'Bengaluru' and 'Banglore' both cities are same but we need to replace with one name\n",
    "matches['city'] = matches['city'].replace(('Bangalore'),('Bengaluru'))\n",
    "\n",
    "#Lets check the citi names\n",
    "cities = set(matches['city'].unique())\n",
    "print(cities)"
   ]
  },
  {
   "cell_type": "markdown",
   "id": "ddb4f347",
   "metadata": {},
   "source": [
    "# Lets find all the Umpires who had umpired for the Matches"
   ]
  },
  {
   "cell_type": "code",
   "execution_count": 16,
   "id": "c96229fb",
   "metadata": {},
   "outputs": [
    {
     "name": "stdout",
     "output_type": "stream",
     "text": [
      "The number of the Umpires :  20\n",
      "Name of The Umpires :  {nan, 'Ulhas Gandhe', 'Anil Dandekar', 'K Ananthapadmanabhan', 'S Ravi', 'Bruce Oxenford', 'Nanda Kishore', 'Nitin Menon', 'O Nandan', 'Rod Tucker', 'Nigel Llong', 'KN Ananthapadmanabhan', 'Kumar Dharmasena', 'Anil Chaudhary', 'C Shamshuddin', 'A Nanda Kishore', 'Vineet Kulkarni', 'Ian Gould', 'Chris Gaffaney', 'Yeshwant Barde'}\n"
     ]
    }
   ],
   "source": [
    "ump_1 = set(matches['umpire1'].unique())\n",
    "ump_2 = set(matches['umpire2'].unique())\n",
    "ump_3 = set(matches['umpire3'].unique())\n",
    "\n",
    "ump = ump_1.intersection(ump_2)\n",
    "ump = ump.intersection(ump_3)\n",
    "\n",
    "print(\"The number of the Umpires : \",len(ump))\n",
    "print(\"Name of The Umpires : \",ump)"
   ]
  },
  {
   "cell_type": "markdown",
   "id": "fa1f8100",
   "metadata": {},
   "source": [
    "## Lets find out all those matches where there are no Umpires at all"
   ]
  },
  {
   "cell_type": "code",
   "execution_count": 17,
   "id": "11597eae",
   "metadata": {},
   "outputs": [
    {
     "data": {
      "text/html": [
       "<div>\n",
       "<style scoped>\n",
       "    .dataframe tbody tr th:only-of-type {\n",
       "        vertical-align: middle;\n",
       "    }\n",
       "\n",
       "    .dataframe tbody tr th {\n",
       "        vertical-align: top;\n",
       "    }\n",
       "\n",
       "    .dataframe thead th {\n",
       "        text-align: right;\n",
       "    }\n",
       "</style>\n",
       "<table border=\"1\" class=\"dataframe\">\n",
       "  <thead>\n",
       "    <tr style=\"text-align: right;\">\n",
       "      <th></th>\n",
       "      <th>date</th>\n",
       "      <th>team1</th>\n",
       "      <th>team2</th>\n",
       "      <th>winner</th>\n",
       "      <th>umpire1</th>\n",
       "      <th>umpire2</th>\n",
       "      <th>umpire3</th>\n",
       "    </tr>\n",
       "  </thead>\n",
       "  <tbody>\n",
       "    <tr>\n",
       "      <th>0</th>\n",
       "      <td>08-04-2017</td>\n",
       "      <td>Royal Challengers Bangalore</td>\n",
       "      <td>Delhi Daredevils</td>\n",
       "      <td>Royal Challengers Bangalore</td>\n",
       "      <td>NaN</td>\n",
       "      <td>NaN</td>\n",
       "      <td>NaN</td>\n",
       "    </tr>\n",
       "    <tr>\n",
       "      <th>1</th>\n",
       "      <td>08-05-2019</td>\n",
       "      <td>Sunrisers Hyderabad</td>\n",
       "      <td>Delhi Capitals</td>\n",
       "      <td>Delhi Capitals</td>\n",
       "      <td>NaN</td>\n",
       "      <td>NaN</td>\n",
       "      <td>NaN</td>\n",
       "    </tr>\n",
       "  </tbody>\n",
       "</table>\n",
       "</div>"
      ],
      "text/plain": [
       "         date                        team1             team2  \\\n",
       "0  08-04-2017  Royal Challengers Bangalore  Delhi Daredevils   \n",
       "1  08-05-2019          Sunrisers Hyderabad    Delhi Capitals   \n",
       "\n",
       "                        winner umpire1 umpire2 umpire3  \n",
       "0  Royal Challengers Bangalore     NaN     NaN     NaN  \n",
       "1               Delhi Capitals     NaN     NaN     NaN  "
      ]
     },
     "execution_count": 17,
     "metadata": {},
     "output_type": "execute_result"
    }
   ],
   "source": [
    "matches[(matches['umpire1'].isnull()) &\n",
    "        (matches['umpire2'].isnull()) &\n",
    "        (matches['umpire3'].isnull())][['date','team1','team2','winner','umpire1','umpire2','umpire3']].reset_index(drop = True)"
   ]
  },
  {
   "cell_type": "markdown",
   "id": "fa8c835c",
   "metadata": {},
   "source": [
    "# Exploring the Best Player from IPL"
   ]
  },
  {
   "cell_type": "code",
   "execution_count": 18,
   "id": "e50dbe9c",
   "metadata": {},
   "outputs": [
    {
     "name": "stdout",
     "output_type": "stream",
     "text": [
      "Number of players who have won the \"Title of player of the Match\" 226\n"
     ]
    },
    {
     "data": {
      "text/plain": [
       "CH Gayle          21\n",
       "AB de Villiers    20\n",
       "RG Sharma         17\n",
       "MS Dhoni          17\n",
       "DA Warner         17\n",
       "YK Pathan         16\n",
       "SR Watson         15\n",
       "SK Raina          14\n",
       "G Gambhir         13\n",
       "AM Rahane         12\n",
       "Name: player_of_match, dtype: int64"
      ]
     },
     "execution_count": 18,
     "metadata": {},
     "output_type": "execute_result"
    }
   ],
   "source": [
    "# Lets know more about the players of the Matches\n",
    "print('Number of players who have won the \"Title of player of the Match\"',matches['player_of_match'].nunique())\n",
    "\n",
    "# Lets get the names of the Top 10 player of the Matches\n",
    "matches['player_of_match'].value_counts().sort_values(ascending = False).head(10)"
   ]
  },
  {
   "cell_type": "markdown",
   "id": "366bb84e",
   "metadata": {},
   "source": [
    "### Lets check all Matches where CH Gayle won the title of the Matches"
   ]
  },
  {
   "cell_type": "code",
   "execution_count": 19,
   "id": "f05dd2d6",
   "metadata": {},
   "outputs": [
    {
     "data": {
      "text/html": [
       "<div>\n",
       "<style scoped>\n",
       "    .dataframe tbody tr th:only-of-type {\n",
       "        vertical-align: middle;\n",
       "    }\n",
       "\n",
       "    .dataframe tbody tr th {\n",
       "        vertical-align: top;\n",
       "    }\n",
       "\n",
       "    .dataframe thead th {\n",
       "        text-align: right;\n",
       "    }\n",
       "</style>\n",
       "<table border=\"1\" class=\"dataframe\">\n",
       "  <thead>\n",
       "    <tr style=\"text-align: right;\">\n",
       "      <th></th>\n",
       "      <th>date</th>\n",
       "      <th>team1</th>\n",
       "      <th>team2</th>\n",
       "      <th>winner</th>\n",
       "    </tr>\n",
       "  </thead>\n",
       "  <tbody>\n",
       "    <tr>\n",
       "      <th>0</th>\n",
       "      <td>18-04-2017</td>\n",
       "      <td>Royal Challengers Bangalore</td>\n",
       "      <td>Gujarat Lions</td>\n",
       "      <td>Royal Challengers Bangalore</td>\n",
       "    </tr>\n",
       "    <tr>\n",
       "      <th>1</th>\n",
       "      <td>21-04-2009</td>\n",
       "      <td>Kings XI Punjab</td>\n",
       "      <td>Kolkata Knight Riders</td>\n",
       "      <td>Kolkata Knight Riders</td>\n",
       "    </tr>\n",
       "    <tr>\n",
       "      <th>2</th>\n",
       "      <td>22-04-2011</td>\n",
       "      <td>Kolkata Knight Riders</td>\n",
       "      <td>Royal Challengers Bangalore</td>\n",
       "      <td>Royal Challengers Bangalore</td>\n",
       "    </tr>\n",
       "    <tr>\n",
       "      <th>3</th>\n",
       "      <td>06-05-2011</td>\n",
       "      <td>Royal Challengers Bangalore</td>\n",
       "      <td>Kings XI Punjab</td>\n",
       "      <td>Royal Challengers Bangalore</td>\n",
       "    </tr>\n",
       "    <tr>\n",
       "      <th>4</th>\n",
       "      <td>08-05-2011</td>\n",
       "      <td>Kochi Tuskers Kerala</td>\n",
       "      <td>Royal Challengers Bangalore</td>\n",
       "      <td>Royal Challengers Bangalore</td>\n",
       "    </tr>\n",
       "    <tr>\n",
       "      <th>5</th>\n",
       "      <td>14-05-2011</td>\n",
       "      <td>Kolkata Knight Riders</td>\n",
       "      <td>Royal Challengers Bangalore</td>\n",
       "      <td>Royal Challengers Bangalore</td>\n",
       "    </tr>\n",
       "    <tr>\n",
       "      <th>6</th>\n",
       "      <td>22-05-2011</td>\n",
       "      <td>Chennai Super Kings</td>\n",
       "      <td>Royal Challengers Bangalore</td>\n",
       "      <td>Royal Challengers Bangalore</td>\n",
       "    </tr>\n",
       "    <tr>\n",
       "      <th>7</th>\n",
       "      <td>27-05-2011</td>\n",
       "      <td>Royal Challengers Bangalore</td>\n",
       "      <td>Mumbai Indians</td>\n",
       "      <td>Royal Challengers Bangalore</td>\n",
       "    </tr>\n",
       "    <tr>\n",
       "      <th>8</th>\n",
       "      <td>17-04-2012</td>\n",
       "      <td>Pune Warriors</td>\n",
       "      <td>Royal Challengers Bangalore</td>\n",
       "      <td>Royal Challengers Bangalore</td>\n",
       "    </tr>\n",
       "    <tr>\n",
       "      <th>9</th>\n",
       "      <td>20-04-2012</td>\n",
       "      <td>Kings XI Punjab</td>\n",
       "      <td>Royal Challengers Bangalore</td>\n",
       "      <td>Royal Challengers Bangalore</td>\n",
       "    </tr>\n",
       "    <tr>\n",
       "      <th>10</th>\n",
       "      <td>09-05-2012</td>\n",
       "      <td>Mumbai Indians</td>\n",
       "      <td>Royal Challengers Bangalore</td>\n",
       "      <td>Royal Challengers Bangalore</td>\n",
       "    </tr>\n",
       "    <tr>\n",
       "      <th>11</th>\n",
       "      <td>11-05-2012</td>\n",
       "      <td>Royal Challengers Bangalore</td>\n",
       "      <td>Pune Warriors</td>\n",
       "      <td>Royal Challengers Bangalore</td>\n",
       "    </tr>\n",
       "    <tr>\n",
       "      <th>12</th>\n",
       "      <td>17-05-2012</td>\n",
       "      <td>Royal Challengers Bangalore</td>\n",
       "      <td>Delhi Daredevils</td>\n",
       "      <td>Royal Challengers Bangalore</td>\n",
       "    </tr>\n",
       "    <tr>\n",
       "      <th>13</th>\n",
       "      <td>04-04-2013</td>\n",
       "      <td>Royal Challengers Bangalore</td>\n",
       "      <td>Mumbai Indians</td>\n",
       "      <td>Royal Challengers Bangalore</td>\n",
       "    </tr>\n",
       "    <tr>\n",
       "      <th>14</th>\n",
       "      <td>11-04-2013</td>\n",
       "      <td>Kolkata Knight Riders</td>\n",
       "      <td>Royal Challengers Bangalore</td>\n",
       "      <td>Royal Challengers Bangalore</td>\n",
       "    </tr>\n",
       "    <tr>\n",
       "      <th>15</th>\n",
       "      <td>23-04-2013</td>\n",
       "      <td>Royal Challengers Bangalore</td>\n",
       "      <td>Pune Warriors</td>\n",
       "      <td>Royal Challengers Bangalore</td>\n",
       "    </tr>\n",
       "    <tr>\n",
       "      <th>16</th>\n",
       "      <td>11-04-2015</td>\n",
       "      <td>Kolkata Knight Riders</td>\n",
       "      <td>Royal Challengers Bangalore</td>\n",
       "      <td>Royal Challengers Bangalore</td>\n",
       "    </tr>\n",
       "    <tr>\n",
       "      <th>17</th>\n",
       "      <td>06-05-2015</td>\n",
       "      <td>Royal Challengers Bangalore</td>\n",
       "      <td>Kings XI Punjab</td>\n",
       "      <td>Royal Challengers Bangalore</td>\n",
       "    </tr>\n",
       "    <tr>\n",
       "      <th>18</th>\n",
       "      <td>15-04-2018</td>\n",
       "      <td>Kings XI Punjab</td>\n",
       "      <td>Chennai Super Kings</td>\n",
       "      <td>Kings XI Punjab</td>\n",
       "    </tr>\n",
       "    <tr>\n",
       "      <th>19</th>\n",
       "      <td>19-04-2018</td>\n",
       "      <td>Kings XI Punjab</td>\n",
       "      <td>Sunrisers Hyderabad</td>\n",
       "      <td>Kings XI Punjab</td>\n",
       "    </tr>\n",
       "    <tr>\n",
       "      <th>20</th>\n",
       "      <td>25-03-2019</td>\n",
       "      <td>Kings XI Punjab</td>\n",
       "      <td>Rajasthan Royals</td>\n",
       "      <td>Kings XI Punjab</td>\n",
       "    </tr>\n",
       "  </tbody>\n",
       "</table>\n",
       "</div>"
      ],
      "text/plain": [
       "          date                        team1                        team2  \\\n",
       "0   18-04-2017  Royal Challengers Bangalore                Gujarat Lions   \n",
       "1   21-04-2009              Kings XI Punjab        Kolkata Knight Riders   \n",
       "2   22-04-2011        Kolkata Knight Riders  Royal Challengers Bangalore   \n",
       "3   06-05-2011  Royal Challengers Bangalore              Kings XI Punjab   \n",
       "4   08-05-2011         Kochi Tuskers Kerala  Royal Challengers Bangalore   \n",
       "5   14-05-2011        Kolkata Knight Riders  Royal Challengers Bangalore   \n",
       "6   22-05-2011          Chennai Super Kings  Royal Challengers Bangalore   \n",
       "7   27-05-2011  Royal Challengers Bangalore               Mumbai Indians   \n",
       "8   17-04-2012                Pune Warriors  Royal Challengers Bangalore   \n",
       "9   20-04-2012              Kings XI Punjab  Royal Challengers Bangalore   \n",
       "10  09-05-2012               Mumbai Indians  Royal Challengers Bangalore   \n",
       "11  11-05-2012  Royal Challengers Bangalore                Pune Warriors   \n",
       "12  17-05-2012  Royal Challengers Bangalore             Delhi Daredevils   \n",
       "13  04-04-2013  Royal Challengers Bangalore               Mumbai Indians   \n",
       "14  11-04-2013        Kolkata Knight Riders  Royal Challengers Bangalore   \n",
       "15  23-04-2013  Royal Challengers Bangalore                Pune Warriors   \n",
       "16  11-04-2015        Kolkata Knight Riders  Royal Challengers Bangalore   \n",
       "17  06-05-2015  Royal Challengers Bangalore              Kings XI Punjab   \n",
       "18  15-04-2018              Kings XI Punjab          Chennai Super Kings   \n",
       "19  19-04-2018              Kings XI Punjab          Sunrisers Hyderabad   \n",
       "20  25-03-2019              Kings XI Punjab             Rajasthan Royals   \n",
       "\n",
       "                         winner  \n",
       "0   Royal Challengers Bangalore  \n",
       "1         Kolkata Knight Riders  \n",
       "2   Royal Challengers Bangalore  \n",
       "3   Royal Challengers Bangalore  \n",
       "4   Royal Challengers Bangalore  \n",
       "5   Royal Challengers Bangalore  \n",
       "6   Royal Challengers Bangalore  \n",
       "7   Royal Challengers Bangalore  \n",
       "8   Royal Challengers Bangalore  \n",
       "9   Royal Challengers Bangalore  \n",
       "10  Royal Challengers Bangalore  \n",
       "11  Royal Challengers Bangalore  \n",
       "12  Royal Challengers Bangalore  \n",
       "13  Royal Challengers Bangalore  \n",
       "14  Royal Challengers Bangalore  \n",
       "15  Royal Challengers Bangalore  \n",
       "16  Royal Challengers Bangalore  \n",
       "17  Royal Challengers Bangalore  \n",
       "18              Kings XI Punjab  \n",
       "19              Kings XI Punjab  \n",
       "20              Kings XI Punjab  "
      ]
     },
     "execution_count": 19,
     "metadata": {},
     "output_type": "execute_result"
    }
   ],
   "source": [
    "matches[matches['player_of_match'] == 'CH Gayle'][['date','team1','team2','winner']].reset_index(drop = True)"
   ]
  },
  {
   "cell_type": "code",
   "execution_count": 20,
   "id": "cf93d8a7",
   "metadata": {},
   "outputs": [
    {
     "name": "stdout",
     "output_type": "stream",
     "text": [
      "Number of Matches Won\n",
      "Kings XI Punjab                12\n",
      "Royal Challengers Bangalore    11\n",
      "Name: winner, dtype: int64\n",
      "\n",
      "win by Total Runs and Wickets\n",
      "                             win_by_runs  win_by_wickets\n",
      "winner                                                  \n",
      "Kings XI Punjab                       63              41\n",
      "Royal Challengers Bangalore           56              37\n"
     ]
    }
   ],
   "source": [
    "# Its clear that from the season ipl-2018 Gayle played for kings x1 punjab\n",
    "# Lets analyze and compare kings xI Punjab and RCB after CH Gayle\n",
    "\n",
    "after_gayle = matches[(matches['Season'] == 'IPL-2018') | (matches['Season'] == 'IPL-2019')]\n",
    "after_gayle_rcb = after_gayle[(after_gayle['winner'] == 'Royal Challengers Bangalore') |\n",
    "                              (after_gayle['winner'] == 'Kings XI Punjab')]\n",
    "\n",
    "print(\"Number of Matches Won\")\n",
    "print(after_gayle_rcb['winner'].value_counts())\n",
    "\n",
    "\n",
    "print(\"\\nwin by Total Runs and Wickets\")\n",
    "print(after_gayle_rcb[['win_by_runs','win_by_wickets','winner']].groupby(['winner']).sum())"
   ]
  },
  {
   "cell_type": "markdown",
   "id": "6584a17b",
   "metadata": {},
   "source": [
    "## Total Matches between KXIP and RCB after 2018"
   ]
  },
  {
   "cell_type": "code",
   "execution_count": 21,
   "id": "f50dd7a4",
   "metadata": {},
   "outputs": [
    {
     "data": {
      "text/html": [
       "<div>\n",
       "<style scoped>\n",
       "    .dataframe tbody tr th:only-of-type {\n",
       "        vertical-align: middle;\n",
       "    }\n",
       "\n",
       "    .dataframe tbody tr th {\n",
       "        vertical-align: top;\n",
       "    }\n",
       "\n",
       "    .dataframe thead th {\n",
       "        text-align: right;\n",
       "    }\n",
       "</style>\n",
       "<table border=\"1\" class=\"dataframe\">\n",
       "  <thead>\n",
       "    <tr style=\"text-align: right;\">\n",
       "      <th></th>\n",
       "      <th>Season</th>\n",
       "      <th>team1</th>\n",
       "      <th>team2</th>\n",
       "      <th>winner</th>\n",
       "    </tr>\n",
       "  </thead>\n",
       "  <tbody>\n",
       "    <tr>\n",
       "      <th>643</th>\n",
       "      <td>IPL-2018</td>\n",
       "      <td>Kings XI Punjab</td>\n",
       "      <td>Royal Challengers Bangalore</td>\n",
       "      <td>Royal Challengers Bangalore</td>\n",
       "    </tr>\n",
       "    <tr>\n",
       "      <th>683</th>\n",
       "      <td>IPL-2018</td>\n",
       "      <td>Kings XI Punjab</td>\n",
       "      <td>Royal Challengers Bangalore</td>\n",
       "      <td>Royal Challengers Bangalore</td>\n",
       "    </tr>\n",
       "    <tr>\n",
       "      <th>723</th>\n",
       "      <td>IPL-2019</td>\n",
       "      <td>Kings XI Punjab</td>\n",
       "      <td>Royal Challengers Bangalore</td>\n",
       "      <td>Royal Challengers Bangalore</td>\n",
       "    </tr>\n",
       "    <tr>\n",
       "      <th>737</th>\n",
       "      <td>IPL-2019</td>\n",
       "      <td>Royal Challengers Bangalore</td>\n",
       "      <td>Kings XI Punjab</td>\n",
       "      <td>Royal Challengers Bangalore</td>\n",
       "    </tr>\n",
       "  </tbody>\n",
       "</table>\n",
       "</div>"
      ],
      "text/plain": [
       "       Season                        team1                        team2  \\\n",
       "643  IPL-2018              Kings XI Punjab  Royal Challengers Bangalore   \n",
       "683  IPL-2018              Kings XI Punjab  Royal Challengers Bangalore   \n",
       "723  IPL-2019              Kings XI Punjab  Royal Challengers Bangalore   \n",
       "737  IPL-2019  Royal Challengers Bangalore              Kings XI Punjab   \n",
       "\n",
       "                          winner  \n",
       "643  Royal Challengers Bangalore  \n",
       "683  Royal Challengers Bangalore  \n",
       "723  Royal Challengers Bangalore  \n",
       "737  Royal Challengers Bangalore  "
      ]
     },
     "execution_count": 21,
     "metadata": {},
     "output_type": "execute_result"
    }
   ],
   "source": [
    "matches_won_rcb = matches[(matches['Season'] == 'IPL-2018') | (matches['Season'] == 'IPL-2019')]\n",
    "matches_won_rcb = matches_won_rcb[((matches_won_rcb['team1'] == 'Royal Challengers Bangalore') & \n",
    "                                   (matches_won_rcb['team2'] == 'Kings XI Punjab')) |\n",
    "                                  ((matches_won_rcb['team1'] == 'Kings XI Punjab') &\n",
    "                                   (matches_won_rcb['team2'] == 'Royal Challengers Bangalore'))]\n",
    "\n",
    "matches_won_rcb[['Season','team1','team2','winner']]"
   ]
  },
  {
   "cell_type": "markdown",
   "id": "3c764d5a",
   "metadata": {},
   "source": [
    "## Player of the match in diffrent seasons from diffrent teams"
   ]
  },
  {
   "cell_type": "code",
   "execution_count": 22,
   "id": "33c2f65e",
   "metadata": {},
   "outputs": [
    {
     "data": {
      "application/vnd.jupyter.widget-view+json": {
       "model_id": "6a726427d6714d4ab64431d849e170d3",
       "version_major": 2,
       "version_minor": 0
      },
      "text/plain": [
       "interactive(children=(Dropdown(description='season', options=('IPL-2013', 'IPL-2012', 'IPL-2011', 'IPL-2019', …"
      ]
     },
     "metadata": {},
     "output_type": "display_data"
    }
   ],
   "source": [
    "# Lets check all the player of the Matches per season and per Team\n",
    "\n",
    "@interact\n",
    "def best_player(season = list(matches['Season'].value_counts().index),\n",
    "               team = list(matches['team1'].value_counts().index)):\n",
    "    a = matches[(matches['Season'] == season) & (matches['team1'] == team)]\n",
    "    return a['player_of_match'].value_counts()"
   ]
  },
  {
   "cell_type": "markdown",
   "id": "a20a25a9",
   "metadata": {},
   "source": [
    "# Discovering the Biggest Matches in IPL\n",
    "* Team has defeated other by maximum no of runs or maximum no of wickets"
   ]
  },
  {
   "cell_type": "code",
   "execution_count": 23,
   "id": "8a6e9ca9",
   "metadata": {},
   "outputs": [
    {
     "name": "stdout",
     "output_type": "stream",
     "text": [
      "       win_by_runs  win_by_wickets\n",
      "count   756.000000      756.000000\n",
      "mean     13.283069        3.350529\n",
      "std      23.471144        3.387963\n",
      "min       0.000000        0.000000\n",
      "25%       0.000000        0.000000\n",
      "50%       0.000000        4.000000\n",
      "75%      19.000000        6.000000\n",
      "max     146.000000       10.000000\n"
     ]
    },
    {
     "data": {
      "image/png": "[encoded data removed]",
      "text/plain": [
       "<Figure size 720x216 with 1 Axes>"
      ]
     },
     "metadata": {},
     "output_type": "display_data"
    }
   ],
   "source": [
    "# Lets analyze the winning score\n",
    "print(matches[['win_by_runs','win_by_wickets']].describe())\n",
    "\n",
    "\n",
    "plt.rcParams['figure.figsize'] = (10,3)\n",
    "matches[['win_by_runs','win_by_wickets']].describe().plot(kind='bar')\n",
    "plt.show()"
   ]
  },
  {
   "cell_type": "markdown",
   "id": "df84feb9",
   "metadata": {},
   "source": [
    "## Lets check the Team who lost the Match by 146 Runs"
   ]
  },
  {
   "cell_type": "code",
   "execution_count": 24,
   "id": "3331b84a",
   "metadata": {},
   "outputs": [
    {
     "data": {
      "text/html": [
       "<div>\n",
       "<style scoped>\n",
       "    .dataframe tbody tr th:only-of-type {\n",
       "        vertical-align: middle;\n",
       "    }\n",
       "\n",
       "    .dataframe tbody tr th {\n",
       "        vertical-align: top;\n",
       "    }\n",
       "\n",
       "    .dataframe thead th {\n",
       "        text-align: right;\n",
       "    }\n",
       "</style>\n",
       "<table border=\"1\" class=\"dataframe\">\n",
       "  <thead>\n",
       "    <tr style=\"text-align: right;\">\n",
       "      <th></th>\n",
       "      <th>Season</th>\n",
       "      <th>team1</th>\n",
       "      <th>team2</th>\n",
       "      <th>winner</th>\n",
       "      <th>player_of_match</th>\n",
       "    </tr>\n",
       "  </thead>\n",
       "  <tbody>\n",
       "    <tr>\n",
       "      <th>0</th>\n",
       "      <td>IPL-2017</td>\n",
       "      <td>Mumbai Indians</td>\n",
       "      <td>Delhi Daredevils</td>\n",
       "      <td>Mumbai Indians</td>\n",
       "      <td>LMP Simmons</td>\n",
       "    </tr>\n",
       "  </tbody>\n",
       "</table>\n",
       "</div>"
      ],
      "text/plain": [
       "     Season           team1             team2          winner player_of_match\n",
       "0  IPL-2017  Mumbai Indians  Delhi Daredevils  Mumbai Indians     LMP Simmons"
      ]
     },
     "execution_count": 24,
     "metadata": {},
     "output_type": "execute_result"
    }
   ],
   "source": [
    "matches[matches['win_by_runs'] == 146][['Season','team1','team2','winner','player_of_match']].reset_index(drop = True)"
   ]
  },
  {
   "cell_type": "markdown",
   "id": "76720f0c",
   "metadata": {},
   "source": [
    "## Lets check the Team who lost the Match by all the 10 wickets"
   ]
  },
  {
   "cell_type": "code",
   "execution_count": 25,
   "id": "51e19aa8",
   "metadata": {},
   "outputs": [
    {
     "data": {
      "text/html": [
       "<div>\n",
       "<style scoped>\n",
       "    .dataframe tbody tr th:only-of-type {\n",
       "        vertical-align: middle;\n",
       "    }\n",
       "\n",
       "    .dataframe tbody tr th {\n",
       "        vertical-align: top;\n",
       "    }\n",
       "\n",
       "    .dataframe thead th {\n",
       "        text-align: right;\n",
       "    }\n",
       "</style>\n",
       "<table border=\"1\" class=\"dataframe\">\n",
       "  <thead>\n",
       "    <tr style=\"text-align: right;\">\n",
       "      <th></th>\n",
       "      <th>Season</th>\n",
       "      <th>team1</th>\n",
       "      <th>team2</th>\n",
       "      <th>winner</th>\n",
       "      <th>player_of_match</th>\n",
       "    </tr>\n",
       "  </thead>\n",
       "  <tbody>\n",
       "    <tr>\n",
       "      <th>0</th>\n",
       "      <td>IPL-2017</td>\n",
       "      <td>Gujarat Lions</td>\n",
       "      <td>Kolkata Knight Riders</td>\n",
       "      <td>Kolkata Knight Riders</td>\n",
       "      <td>CA Lynn</td>\n",
       "    </tr>\n",
       "    <tr>\n",
       "      <th>1</th>\n",
       "      <td>IPL-2017</td>\n",
       "      <td>Delhi Daredevils</td>\n",
       "      <td>Kings XI Punjab</td>\n",
       "      <td>Kings XI Punjab</td>\n",
       "      <td>Sandeep Sharma</td>\n",
       "    </tr>\n",
       "    <tr>\n",
       "      <th>2</th>\n",
       "      <td>IPL-2008</td>\n",
       "      <td>Mumbai Indians</td>\n",
       "      <td>Deccan Chargers</td>\n",
       "      <td>Deccan Chargers</td>\n",
       "      <td>AC Gilchrist</td>\n",
       "    </tr>\n",
       "    <tr>\n",
       "      <th>3</th>\n",
       "      <td>IPL-2009</td>\n",
       "      <td>Kings XI Punjab</td>\n",
       "      <td>Delhi Daredevils</td>\n",
       "      <td>Delhi Daredevils</td>\n",
       "      <td>DL Vettori</td>\n",
       "    </tr>\n",
       "    <tr>\n",
       "      <th>4</th>\n",
       "      <td>IPL-2010</td>\n",
       "      <td>Rajasthan Royals</td>\n",
       "      <td>Royal Challengers Bangalore</td>\n",
       "      <td>Royal Challengers Bangalore</td>\n",
       "      <td>JH Kallis</td>\n",
       "    </tr>\n",
       "    <tr>\n",
       "      <th>5</th>\n",
       "      <td>IPL-2011</td>\n",
       "      <td>Mumbai Indians</td>\n",
       "      <td>Rajasthan Royals</td>\n",
       "      <td>Rajasthan Royals</td>\n",
       "      <td>SR Watson</td>\n",
       "    </tr>\n",
       "    <tr>\n",
       "      <th>6</th>\n",
       "      <td>IPL-2012</td>\n",
       "      <td>Rajasthan Royals</td>\n",
       "      <td>Mumbai Indians</td>\n",
       "      <td>Mumbai Indians</td>\n",
       "      <td>DR Smith</td>\n",
       "    </tr>\n",
       "    <tr>\n",
       "      <th>7</th>\n",
       "      <td>IPL-2013</td>\n",
       "      <td>Kings XI Punjab</td>\n",
       "      <td>Chennai Super Kings</td>\n",
       "      <td>Chennai Super Kings</td>\n",
       "      <td>MEK Hussey</td>\n",
       "    </tr>\n",
       "    <tr>\n",
       "      <th>8</th>\n",
       "      <td>IPL-2015</td>\n",
       "      <td>Delhi Daredevils</td>\n",
       "      <td>Royal Challengers Bangalore</td>\n",
       "      <td>Royal Challengers Bangalore</td>\n",
       "      <td>VR Aaron</td>\n",
       "    </tr>\n",
       "    <tr>\n",
       "      <th>9</th>\n",
       "      <td>IPL-2016</td>\n",
       "      <td>Gujarat Lions</td>\n",
       "      <td>Sunrisers Hyderabad</td>\n",
       "      <td>Sunrisers Hyderabad</td>\n",
       "      <td>B Kumar</td>\n",
       "    </tr>\n",
       "    <tr>\n",
       "      <th>10</th>\n",
       "      <td>IPL-2018</td>\n",
       "      <td>Kings XI Punjab</td>\n",
       "      <td>Royal Challengers Bangalore</td>\n",
       "      <td>Royal Challengers Bangalore</td>\n",
       "      <td>UT Yadav</td>\n",
       "    </tr>\n",
       "  </tbody>\n",
       "</table>\n",
       "</div>"
      ],
      "text/plain": [
       "      Season             team1                        team2  \\\n",
       "0   IPL-2017     Gujarat Lions        Kolkata Knight Riders   \n",
       "1   IPL-2017  Delhi Daredevils              Kings XI Punjab   \n",
       "2   IPL-2008    Mumbai Indians              Deccan Chargers   \n",
       "3   IPL-2009   Kings XI Punjab             Delhi Daredevils   \n",
       "4   IPL-2010  Rajasthan Royals  Royal Challengers Bangalore   \n",
       "5   IPL-2011    Mumbai Indians             Rajasthan Royals   \n",
       "6   IPL-2012  Rajasthan Royals               Mumbai Indians   \n",
       "7   IPL-2013   Kings XI Punjab          Chennai Super Kings   \n",
       "8   IPL-2015  Delhi Daredevils  Royal Challengers Bangalore   \n",
       "9   IPL-2016     Gujarat Lions          Sunrisers Hyderabad   \n",
       "10  IPL-2018   Kings XI Punjab  Royal Challengers Bangalore   \n",
       "\n",
       "                         winner player_of_match  \n",
       "0         Kolkata Knight Riders         CA Lynn  \n",
       "1               Kings XI Punjab  Sandeep Sharma  \n",
       "2               Deccan Chargers    AC Gilchrist  \n",
       "3              Delhi Daredevils      DL Vettori  \n",
       "4   Royal Challengers Bangalore       JH Kallis  \n",
       "5              Rajasthan Royals       SR Watson  \n",
       "6                Mumbai Indians        DR Smith  \n",
       "7           Chennai Super Kings      MEK Hussey  \n",
       "8   Royal Challengers Bangalore        VR Aaron  \n",
       "9           Sunrisers Hyderabad         B Kumar  \n",
       "10  Royal Challengers Bangalore        UT Yadav  "
      ]
     },
     "execution_count": 25,
     "metadata": {},
     "output_type": "execute_result"
    }
   ],
   "source": [
    "matches[matches['win_by_wickets'] == 10][['Season','team1','team2','winner','player_of_match']].reset_index(drop = True)"
   ]
  },
  {
   "cell_type": "markdown",
   "id": "2e8a73b3",
   "metadata": {},
   "source": [
    "* Top 10 victory moments where RCB won the match either more than 100 runs or by more than 7 wickets"
   ]
  },
  {
   "cell_type": "markdown",
   "id": "26ba0c1a",
   "metadata": {},
   "source": [
    "# Lets compare Mumbai Indians and Chennai Super Kings"
   ]
  },
  {
   "cell_type": "code",
   "execution_count": 26,
   "id": "c43f3a3d",
   "metadata": {},
   "outputs": [
    {
     "data": {
      "text/html": [
       "<style  type=\"text/css\" >\n",
       "#T_2e9ad_row0_col0,#T_2e9ad_row0_col2,#T_2e9ad_row0_col4,#T_2e9ad_row0_col6,#T_2e9ad_row0_col7,#T_2e9ad_row1_col0,#T_2e9ad_row1_col4,#T_2e9ad_row1_col5,#T_2e9ad_row1_col6,#T_2e9ad_row2_col0,#T_2e9ad_row2_col1,#T_2e9ad_row2_col3,#T_2e9ad_row2_col4,#T_2e9ad_row2_col6{\n",
       "            background-color:  #000004;\n",
       "            color:  #f1f1f1;\n",
       "        }#T_2e9ad_row0_col1,#T_2e9ad_row1_col2,#T_2e9ad_row1_col3,#T_2e9ad_row1_col7,#T_2e9ad_row2_col5{\n",
       "            background-color:  #fcffa4;\n",
       "            color:  #000000;\n",
       "        }#T_2e9ad_row0_col3{\n",
       "            background-color:  #f98e09;\n",
       "            color:  #000000;\n",
       "        }#T_2e9ad_row0_col5{\n",
       "            background-color:  #260c51;\n",
       "            color:  #f1f1f1;\n",
       "        }#T_2e9ad_row1_col1{\n",
       "            background-color:  #f4e156;\n",
       "            color:  #000000;\n",
       "        }#T_2e9ad_row2_col2{\n",
       "            background-color:  #f2f27d;\n",
       "            color:  #000000;\n",
       "        }#T_2e9ad_row2_col7{\n",
       "            background-color:  #0c0826;\n",
       "            color:  #f1f1f1;\n",
       "        }</style><table id=\"T_2e9ad_\" ><thead>    <tr>        <th class=\"blank level0\" ></th>        <th class=\"col_heading level0 col0\" colspan=\"4\">win_by_runs</th>        <th class=\"col_heading level0 col4\" colspan=\"4\">win_by_wickets</th>    </tr>    <tr>        <th class=\"blank level1\" ></th>        <th class=\"col_heading level1 col0\" >min</th>        <th class=\"col_heading level1 col1\" >mean</th>        <th class=\"col_heading level1 col2\" >max</th>        <th class=\"col_heading level1 col3\" >sum</th>        <th class=\"col_heading level1 col4\" >min</th>        <th class=\"col_heading level1 col5\" >mean</th>        <th class=\"col_heading level1 col6\" >max</th>        <th class=\"col_heading level1 col7\" >sum</th>    </tr>    <tr>        <th class=\"index_name level0\" >winner</th>        <th class=\"blank\" ></th>        <th class=\"blank\" ></th>        <th class=\"blank\" ></th>        <th class=\"blank\" ></th>        <th class=\"blank\" ></th>        <th class=\"blank\" ></th>        <th class=\"blank\" ></th>        <th class=\"blank\" ></th>    </tr></thead><tbody>\n",
       "                <tr>\n",
       "                        <th id=\"T_2e9ad_level0_row0\" class=\"row_heading level0 row0\" >Chennai Super Kings</th>\n",
       "                        <td id=\"T_2e9ad_row0_col0\" class=\"data row0 col0\" >0</td>\n",
       "                        <td id=\"T_2e9ad_row0_col1\" class=\"data row0 col1\" >17.071429</td>\n",
       "                        <td id=\"T_2e9ad_row0_col2\" class=\"data row0 col2\" >97</td>\n",
       "                        <td id=\"T_2e9ad_row0_col3\" class=\"data row0 col3\" >2151</td>\n",
       "                        <td id=\"T_2e9ad_row0_col4\" class=\"data row0 col4\" >0</td>\n",
       "                        <td id=\"T_2e9ad_row0_col5\" class=\"data row0 col5\" >2.936508</td>\n",
       "                        <td id=\"T_2e9ad_row0_col6\" class=\"data row0 col6\" >10</td>\n",
       "                        <td id=\"T_2e9ad_row0_col7\" class=\"data row0 col7\" >370</td>\n",
       "            </tr>\n",
       "            <tr>\n",
       "                        <th id=\"T_2e9ad_level0_row1\" class=\"row_heading level0 row1\" >Mumbai Indians</th>\n",
       "                        <td id=\"T_2e9ad_row1_col0\" class=\"data row1 col0\" >0</td>\n",
       "                        <td id=\"T_2e9ad_row1_col1\" class=\"data row1 col1\" >16.830986</td>\n",
       "                        <td id=\"T_2e9ad_row1_col2\" class=\"data row1 col2\" >146</td>\n",
       "                        <td id=\"T_2e9ad_row1_col3\" class=\"data row1 col3\" >2390</td>\n",
       "                        <td id=\"T_2e9ad_row1_col4\" class=\"data row1 col4\" >0</td>\n",
       "                        <td id=\"T_2e9ad_row1_col5\" class=\"data row1 col5\" >2.816901</td>\n",
       "                        <td id=\"T_2e9ad_row1_col6\" class=\"data row1 col6\" >10</td>\n",
       "                        <td id=\"T_2e9ad_row1_col7\" class=\"data row1 col7\" >400</td>\n",
       "            </tr>\n",
       "            <tr>\n",
       "                        <th id=\"T_2e9ad_level0_row2\" class=\"row_heading level0 row2\" >Royal Challengers Bangalore</th>\n",
       "                        <td id=\"T_2e9ad_row2_col0\" class=\"data row2 col0\" >0</td>\n",
       "                        <td id=\"T_2e9ad_row2_col1\" class=\"data row2 col1\" >14.108911</td>\n",
       "                        <td id=\"T_2e9ad_row2_col2\" class=\"data row2 col2\" >144</td>\n",
       "                        <td id=\"T_2e9ad_row2_col3\" class=\"data row2 col3\" >1425</td>\n",
       "                        <td id=\"T_2e9ad_row2_col4\" class=\"data row2 col4\" >0</td>\n",
       "                        <td id=\"T_2e9ad_row2_col5\" class=\"data row2 col5\" >3.683168</td>\n",
       "                        <td id=\"T_2e9ad_row2_col6\" class=\"data row2 col6\" >10</td>\n",
       "                        <td id=\"T_2e9ad_row2_col7\" class=\"data row2 col7\" >372</td>\n",
       "            </tr>\n",
       "    </tbody></table>"
      ],
      "text/plain": [
       "<pandas.io.formats.style.Styler at 0x2082e4bd130>"
      ]
     },
     "execution_count": 26,
     "metadata": {},
     "output_type": "execute_result"
    }
   ],
   "source": [
    "MumbaiIndians = matches[(matches['team1'] == 'Mumbai Indians') | (matches['team2'] == 'Mumbai Indians')]\n",
    "ChennaiSuperKings = matches[(matches['team1'] == 'Chennai Super Kings') | (matches['team2'] == 'Chennai Super Kings')]\n",
    "royalchallengers = matches[(matches['team1'] == 'Royal Challengers Bangalore') | (matches['team2'] == 'Royal Challengers Bangalore')]\n",
    "\n",
    "data = MumbaiIndians.append(ChennaiSuperKings)\n",
    "data = data.append(royalchallengers)\n",
    "data = data[(data['winner'] == 'Mumbai Indians') | (data['winner'] == 'Chennai Super Kings') |\n",
    "            (data['winner'] == 'Royal Challengers Bangalore')]\n",
    "\n",
    "data[['Season',\n",
    "      'winner',\n",
    "      'win_by_runs',\n",
    "      'win_by_wickets',\n",
    "      'player_of_match']].groupby(['winner']).agg(['min',\n",
    "                                                   'mean',\n",
    "                                                   'max','sum']).style.background_gradient(cmap = 'inferno')"
   ]
  },
  {
   "cell_type": "markdown",
   "id": "8e673bee",
   "metadata": {},
   "source": [
    "# Understanding the Match Results"
   ]
  },
  {
   "cell_type": "code",
   "execution_count": 27,
   "id": "f30f7fcb",
   "metadata": {},
   "outputs": [
    {
     "data": {
      "text/plain": [
       "normal       743\n",
       "tie            9\n",
       "no result      4\n",
       "Name: result, dtype: int64"
      ]
     },
     "execution_count": 27,
     "metadata": {},
     "output_type": "execute_result"
    }
   ],
   "source": [
    "# Lets see the types of matches Results\n",
    "matches['result'].value_counts()"
   ]
  },
  {
   "cell_type": "code",
   "execution_count": 28,
   "id": "e2f95ad3",
   "metadata": {},
   "outputs": [
    {
     "name": "stdout",
     "output_type": "stream",
     "text": [
      "Percentage of matches where result is 'Normal' : 98.0\n",
      "Percentage of matches where result is 'Tie' : 1.0\n",
      "Percentage of matches where result is 'No_Result' : 1.0\n"
     ]
    }
   ],
   "source": [
    "# Lets check the probability of matches where we can see Normal, Tie or No Result Scenarios\n",
    "\n",
    "normal = matches[matches['result'] == 'normal']\n",
    "tie = matches[matches['result'] == 'tie']\n",
    "no_result = matches[matches['result'] == 'no result']\n",
    "\n",
    "print(\"Percentage of matches where result is 'Normal' :\", round(normal.shape[0]/matches.shape[0],2)*100)\n",
    "print(\"Percentage of matches where result is 'Tie' :\",round(tie.shape[0]/matches.shape[0],2)*100)\n",
    "print(\"Percentage of matches where result is 'No_Result' :\",round(no_result.shape[0]/matches.shape[0],2)*100)"
   ]
  },
  {
   "cell_type": "code",
   "execution_count": 29,
   "id": "005005e5",
   "metadata": {},
   "outputs": [
    {
     "name": "stdout",
     "output_type": "stream",
     "text": [
      "Team where Tie Happend\n",
      "         date                        team1                        team2\n",
      "0  29-04-2017                Gujarat Lions               Mumbai Indians\n",
      "1  23-04-2009             Rajasthan Royals        Kolkata Knight Riders\n",
      "2  21-03-2010              Kings XI Punjab          Chennai Super Kings\n",
      "3  07-04-2013  Royal Challengers Bangalore          Sunrisers Hyderabad\n",
      "4  16-04-2013             Delhi Daredevils  Royal Challengers Bangalore\n",
      "5  29-04-2014             Rajasthan Royals        Kolkata Knight Riders\n",
      "6  21-04-2015             Rajasthan Royals              Kings XI Punjab\n",
      "7  30-03-2019        Kolkata Knight Riders               Delhi Capitals\n",
      "8  02-05-2019               Mumbai Indians          Sunrisers Hyderabad\n",
      "\n",
      "\n",
      "Teams where there was no Result\n",
      "         date                        team1                        team2\n",
      "0  21-05-2011             Delhi Daredevils                Pune Warriors\n",
      "1  29-04-2015  Royal Challengers Bangalore             Rajasthan Royals\n",
      "2  17-05-2015             Delhi Daredevils  Royal Challengers Bangalore\n",
      "3  30-04-2019  Royal Challengers Bangalore             Rajasthan Royals\n"
     ]
    }
   ],
   "source": [
    "# As we can see that there are only few Matches where Tie and No Result,so lets check them\n",
    "\n",
    "print(\"Team where Tie Happend\")\n",
    "print(matches[matches['result'] == 'tie'][['date','team1','team2']].reset_index(drop = True))\n",
    "print(\"\\n\")\n",
    "print(\"Teams where there was no Result\")\n",
    "print(matches[matches['result'] == 'no result'][['date','team1','team2']].reset_index(drop = True))"
   ]
  },
  {
   "cell_type": "markdown",
   "id": "af78a52b",
   "metadata": {},
   "source": [
    "# Uncovering the Most Popular IPL Seasons and Teams"
   ]
  },
  {
   "cell_type": "markdown",
   "id": "b712dca7",
   "metadata": {},
   "source": [
    "* Check which ipl season conducted the maximum no of matches"
   ]
  },
  {
   "cell_type": "code",
   "execution_count": 30,
   "id": "164c9d03",
   "metadata": {},
   "outputs": [
    {
     "ename": "AttributeError",
     "evalue": "module 'matplotlib.pyplot' has no attribute 'xlable'",
     "output_type": "error",
     "traceback": [
      "\u001b[1;31m---------------------------------------------------------------------------\u001b[0m",
      "\u001b[1;31mAttributeError\u001b[0m                            Traceback (most recent call last)",
      "\u001b[1;32m<ipython-input-30-7aa40d750495>\u001b[0m in \u001b[0;36m<module>\u001b[1;34m\u001b[0m\n\u001b[0;32m      4\u001b[0m \u001b[0msns\u001b[0m\u001b[1;33m.\u001b[0m\u001b[0mcountplot\u001b[0m\u001b[1;33m(\u001b[0m\u001b[0my\u001b[0m \u001b[1;33m=\u001b[0m \u001b[0mmatches\u001b[0m\u001b[1;33m[\u001b[0m\u001b[1;34m'Season'\u001b[0m\u001b[1;33m]\u001b[0m\u001b[1;33m.\u001b[0m\u001b[0msort_values\u001b[0m\u001b[1;33m(\u001b[0m\u001b[1;33m)\u001b[0m\u001b[1;33m,\u001b[0m\u001b[0mpalette\u001b[0m \u001b[1;33m=\u001b[0m \u001b[1;34m'copper'\u001b[0m\u001b[1;33m)\u001b[0m\u001b[1;33m\u001b[0m\u001b[1;33m\u001b[0m\u001b[0m\n\u001b[0;32m      5\u001b[0m \u001b[0mplt\u001b[0m\u001b[1;33m.\u001b[0m\u001b[0mtitle\u001b[0m\u001b[1;33m(\u001b[0m\u001b[1;34m'IPL Seasons with Occurences \\n'\u001b[0m\u001b[1;33m,\u001b[0m\u001b[0mfontsize\u001b[0m \u001b[1;33m=\u001b[0m \u001b[1;36m20\u001b[0m\u001b[1;33m)\u001b[0m\u001b[1;33m\u001b[0m\u001b[1;33m\u001b[0m\u001b[0m\n\u001b[1;32m----> 6\u001b[1;33m \u001b[0mplt\u001b[0m\u001b[1;33m.\u001b[0m\u001b[0mxlable\u001b[0m\u001b[1;33m(\u001b[0m\u001b[1;34m' '\u001b[0m\u001b[1;33m)\u001b[0m\u001b[1;33m\u001b[0m\u001b[1;33m\u001b[0m\u001b[0m\n\u001b[0m\u001b[0;32m      7\u001b[0m \u001b[0mplt\u001b[0m\u001b[1;33m.\u001b[0m\u001b[0mshow\u001b[0m\u001b[1;33m(\u001b[0m\u001b[1;33m)\u001b[0m\u001b[1;33m\u001b[0m\u001b[1;33m\u001b[0m\u001b[0m\n",
      "\u001b[1;31mAttributeError\u001b[0m: module 'matplotlib.pyplot' has no attribute 'xlable'"
     ]
    },
    {
     "data": {
      "image/png": "[encoded data removed]",
      "text/plain": [
       "<Figure size 864x288 with 1 Axes>"
      ]
     },
     "metadata": {},
     "output_type": "display_data"
    }
   ],
   "source": [
    "# Lets check the Number of IPL seasons\n",
    "\n",
    "plt.rcParams['figure.figsize'] = (12,4)\n",
    "sns.countplot(y = matches['Season'].sort_values(),palette = 'copper')\n",
    "plt.title('IPL Seasons with Occurences \\n',fontsize = 20)\n",
    "plt.xlable(' ')\n",
    "plt.show()"
   ]
  },
  {
   "cell_type": "markdown",
   "id": "3faf6853",
   "metadata": {},
   "source": [
    "## Number of Matches played by all the Teams"
   ]
  },
  {
   "cell_type": "code",
   "execution_count": 31,
   "id": "27bb3e74",
   "metadata": {},
   "outputs": [
    {
     "ename": "AttributeError",
     "evalue": "module 'matplotlib.pyplot' has no attribute 'xlable'",
     "output_type": "error",
     "traceback": [
      "\u001b[1;31m---------------------------------------------------------------------------\u001b[0m",
      "\u001b[1;31mAttributeError\u001b[0m                            Traceback (most recent call last)",
      "\u001b[1;32m<ipython-input-31-b365ebef85fa>\u001b[0m in \u001b[0;36m<module>\u001b[1;34m\u001b[0m\n\u001b[0;32m      6\u001b[0m \u001b[0mplt\u001b[0m\u001b[1;33m.\u001b[0m\u001b[0mtitle\u001b[0m\u001b[1;33m(\u001b[0m\u001b[1;34m'Teams who played Highest number of Matches \\n'\u001b[0m\u001b[1;33m,\u001b[0m \u001b[0mfontsize\u001b[0m \u001b[1;33m=\u001b[0m \u001b[1;36m20\u001b[0m\u001b[1;33m)\u001b[0m\u001b[1;33m\u001b[0m\u001b[1;33m\u001b[0m\u001b[0m\n\u001b[0;32m      7\u001b[0m \u001b[0mplt\u001b[0m\u001b[1;33m.\u001b[0m\u001b[0mylabel\u001b[0m\u001b[1;33m(\u001b[0m\u001b[1;34m' '\u001b[0m\u001b[1;33m)\u001b[0m\u001b[1;33m\u001b[0m\u001b[1;33m\u001b[0m\u001b[0m\n\u001b[1;32m----> 8\u001b[1;33m \u001b[0mplt\u001b[0m\u001b[1;33m.\u001b[0m\u001b[0mxlable\u001b[0m\u001b[1;33m(\u001b[0m\u001b[1;34m'\\n Number of Matches Played'\u001b[0m\u001b[1;33m)\u001b[0m\u001b[1;33m\u001b[0m\u001b[1;33m\u001b[0m\u001b[0m\n\u001b[0m\u001b[0;32m      9\u001b[0m \u001b[0mplt\u001b[0m\u001b[1;33m.\u001b[0m\u001b[0mshow\u001b[0m\u001b[1;33m(\u001b[0m\u001b[1;33m)\u001b[0m\u001b[1;33m\u001b[0m\u001b[1;33m\u001b[0m\u001b[0m\n",
      "\u001b[1;31mAttributeError\u001b[0m: module 'matplotlib.pyplot' has no attribute 'xlable'"
     ]
    },
    {
     "data": {
      "image/png": "[encoded data removed]",
      "text/plain": [
       "<Figure size 1080x432 with 1 Axes>"
      ]
     },
     "metadata": {},
     "output_type": "display_data"
    }
   ],
   "source": [
    "# Lets check the Number Matches played by all the Team\n",
    "team = matches['team1'].append(matches['team2'])\n",
    "    \n",
    "plt.rcParams['figure.figsize'] = (15,6)\n",
    "sns.countplot(y = team,palette = 'Wistia')\n",
    "plt.title('Teams who played Highest number of Matches \\n', fontsize = 20)\n",
    "plt.ylabel(' ')\n",
    "plt.xlable('\\n Number of Matches Played')\n",
    "plt.show()"
   ]
  },
  {
   "cell_type": "markdown",
   "id": "5f3f9ccc",
   "metadata": {},
   "source": [
    "# Realizing the Locations for all the IPL Seasons"
   ]
  },
  {
   "cell_type": "markdown",
   "id": "954307ca",
   "metadata": {},
   "source": [
    "### Lets explore the Venues used for IPL Matches the Most"
   ]
  },
  {
   "cell_type": "code",
   "execution_count": 32,
   "id": "d313c157",
   "metadata": {},
   "outputs": [
    {
     "ename": "AttributeError",
     "evalue": "module 'matplotlib.pyplot' has no attribute 'xlable'",
     "output_type": "error",
     "traceback": [
      "\u001b[1;31m---------------------------------------------------------------------------\u001b[0m",
      "\u001b[1;31mAttributeError\u001b[0m                            Traceback (most recent call last)",
      "\u001b[1;32m<ipython-input-32-ca485e0d3927>\u001b[0m in \u001b[0;36m<module>\u001b[1;34m\u001b[0m\n\u001b[0;32m      5\u001b[0m            x = matches['venue'].value_counts().head(15).values,palette = 'cool')\n\u001b[0;32m      6\u001b[0m \u001b[0mplt\u001b[0m\u001b[1;33m.\u001b[0m\u001b[0mtitle\u001b[0m\u001b[1;33m(\u001b[0m\u001b[1;34m'Most Popular Venues for IPL Matches \\n'\u001b[0m\u001b[1;33m,\u001b[0m \u001b[0mfontsize\u001b[0m \u001b[1;33m=\u001b[0m \u001b[1;36m25\u001b[0m\u001b[1;33m)\u001b[0m\u001b[1;33m\u001b[0m\u001b[1;33m\u001b[0m\u001b[0m\n\u001b[1;32m----> 7\u001b[1;33m \u001b[0mplt\u001b[0m\u001b[1;33m.\u001b[0m\u001b[0mxlable\u001b[0m\u001b[1;33m(\u001b[0m\u001b[1;34m'\\n Number of Matches Played'\u001b[0m\u001b[1;33m,\u001b[0m\u001b[0mfontsize\u001b[0m \u001b[1;33m=\u001b[0m \u001b[1;36m20\u001b[0m\u001b[1;33m)\u001b[0m\u001b[1;33m\u001b[0m\u001b[1;33m\u001b[0m\u001b[0m\n\u001b[0m\u001b[0;32m      8\u001b[0m \u001b[0mplt\u001b[0m\u001b[1;33m.\u001b[0m\u001b[0mshow\u001b[0m\u001b[1;33m(\u001b[0m\u001b[1;33m)\u001b[0m\u001b[1;33m\u001b[0m\u001b[1;33m\u001b[0m\u001b[0m\n",
      "\u001b[1;31mAttributeError\u001b[0m: module 'matplotlib.pyplot' has no attribute 'xlable'"
     ]
    },
    {
     "data": {
      "image/png": "[encoded data removed]",
      "text/plain": [
       "<Figure size 1080x432 with 1 Axes>"
      ]
     },
     "metadata": {},
     "output_type": "display_data"
    }
   ],
   "source": [
    "# Lets check the Number Matches played by all the Team\n",
    "    \n",
    "plt.rcParams['figure.figsize'] = (15,6)\n",
    "sns.barplot(y = matches['venue'].value_counts().head(15).index,\n",
    "           x = matches['venue'].value_counts().head(15).values,palette = 'cool')\n",
    "plt.title('Most Popular Venues for IPL Matches \\n', fontsize = 25)\n",
    "plt.xlable('\\n Number of Matches Played',fontsize = 20)\n",
    "plt.show()"
   ]
  },
  {
   "cell_type": "code",
   "execution_count": 33,
   "id": "07224f06",
   "metadata": {},
   "outputs": [
    {
     "data": {
      "text/html": [
       "<div>\n",
       "<style scoped>\n",
       "    .dataframe tbody tr th:only-of-type {\n",
       "        vertical-align: middle;\n",
       "    }\n",
       "\n",
       "    .dataframe tbody tr th {\n",
       "        vertical-align: top;\n",
       "    }\n",
       "\n",
       "    .dataframe thead th {\n",
       "        text-align: right;\n",
       "    }\n",
       "</style>\n",
       "<table border=\"1\" class=\"dataframe\">\n",
       "  <thead>\n",
       "    <tr style=\"text-align: right;\">\n",
       "      <th></th>\n",
       "      <th>Season</th>\n",
       "      <th>city</th>\n",
       "      <th>count</th>\n",
       "    </tr>\n",
       "  </thead>\n",
       "  <tbody>\n",
       "    <tr>\n",
       "      <th>5</th>\n",
       "      <td>IPL-2017</td>\n",
       "      <td>Kanpur</td>\n",
       "      <td>2</td>\n",
       "    </tr>\n",
       "    <tr>\n",
       "      <th>4</th>\n",
       "      <td>IPL-2017</td>\n",
       "      <td>Indore</td>\n",
       "      <td>3</td>\n",
       "    </tr>\n",
       "    <tr>\n",
       "      <th>1</th>\n",
       "      <td>IPL-2017</td>\n",
       "      <td>Chandigarh</td>\n",
       "      <td>4</td>\n",
       "    </tr>\n",
       "    <tr>\n",
       "      <th>9</th>\n",
       "      <td>IPL-2017</td>\n",
       "      <td>Rajkot</td>\n",
       "      <td>5</td>\n",
       "    </tr>\n",
       "    <tr>\n",
       "      <th>2</th>\n",
       "      <td>IPL-2017</td>\n",
       "      <td>Delhi</td>\n",
       "      <td>7</td>\n",
       "    </tr>\n",
       "    <tr>\n",
       "      <th>6</th>\n",
       "      <td>IPL-2017</td>\n",
       "      <td>Kolkata</td>\n",
       "      <td>7</td>\n",
       "    </tr>\n",
       "    <tr>\n",
       "      <th>8</th>\n",
       "      <td>IPL-2017</td>\n",
       "      <td>Pune</td>\n",
       "      <td>7</td>\n",
       "    </tr>\n",
       "    <tr>\n",
       "      <th>0</th>\n",
       "      <td>IPL-2017</td>\n",
       "      <td>Bengaluru</td>\n",
       "      <td>8</td>\n",
       "    </tr>\n",
       "    <tr>\n",
       "      <th>3</th>\n",
       "      <td>IPL-2017</td>\n",
       "      <td>Hyderabad</td>\n",
       "      <td>8</td>\n",
       "    </tr>\n",
       "    <tr>\n",
       "      <th>7</th>\n",
       "      <td>IPL-2017</td>\n",
       "      <td>Mumbai</td>\n",
       "      <td>8</td>\n",
       "    </tr>\n",
       "  </tbody>\n",
       "</table>\n",
       "</div>"
      ],
      "text/plain": [
       "     Season        city  count\n",
       "5  IPL-2017      Kanpur      2\n",
       "4  IPL-2017      Indore      3\n",
       "1  IPL-2017  Chandigarh      4\n",
       "9  IPL-2017      Rajkot      5\n",
       "2  IPL-2017       Delhi      7\n",
       "6  IPL-2017     Kolkata      7\n",
       "8  IPL-2017        Pune      7\n",
       "0  IPL-2017   Bengaluru      8\n",
       "3  IPL-2017   Hyderabad      8\n",
       "7  IPL-2017      Mumbai      8"
      ]
     },
     "execution_count": 33,
     "metadata": {},
     "output_type": "execute_result"
    }
   ],
   "source": [
    "# Lets find out in which cities the IPL Matches were held out\n",
    "\n",
    "def city(season):\n",
    "    cities = matches.groupby(['Season','city'])['id'].agg('count').reset_index()\n",
    "    cities.rename(columns = {'id' : 'count'},inplace = True)\n",
    "    return cities[cities['Season'] == season].reset_index(drop = True).sort_values(by = 'count',ascending =True)\n",
    "\n",
    "# Lets test it out with the IPL Seasons 2019\n",
    "city('IPL-2017')"
   ]
  },
  {
   "cell_type": "code",
   "execution_count": 34,
   "id": "dfbbf9de",
   "metadata": {},
   "outputs": [
    {
     "data": {
      "application/vnd.jupyter.widget-view+json": {
       "model_id": "00b3f3ac0b16456d870a670115d1270e",
       "version_major": 2,
       "version_minor": 0
      },
      "text/plain": [
       "interactive(children=(Dropdown(description='season', options=('IPL-2013', 'IPL-2012', 'IPL-2011', 'IPL-2019', …"
      ]
     },
     "metadata": {},
     "output_type": "display_data"
    }
   ],
   "source": [
    "# We can convert the above function into Interactive function\n",
    "\n",
    "@interact\n",
    "def city(season = list(matches['Season'].value_counts().index)):\n",
    "    cities = matches.groupby(['Season','city'])['id'].agg('count').reset_index()\n",
    "    cities.rename(columns={'id':'count'},inplace=True)\n",
    "    return cities[cities['Season'] == season].reset_index(drop = True).sort_values(by = 'count',\n",
    "                                            ascending = False).style.background_gradient(cmap='viridis')"
   ]
  },
  {
   "cell_type": "markdown",
   "id": "b7b40727",
   "metadata": {},
   "source": [
    "# Comparing Toss Winners and Winnners"
   ]
  },
  {
   "cell_type": "markdown",
   "id": "9fc8d3d3",
   "metadata": {},
   "source": [
    "* Check the Total Matches Won by all the Teams"
   ]
  },
  {
   "cell_type": "code",
   "execution_count": 35,
   "id": "9e2df9f0",
   "metadata": {},
   "outputs": [
    {
     "data": {
      "text/plain": [
       "Mumbai Indians                 109\n",
       "Chennai Super Kings            100\n",
       "Kolkata Knight Riders           92\n",
       "Royal Challengers Bangalore     84\n",
       "Kings XI Punjab                 82\n",
       "Rajasthan Royals                75\n",
       "Delhi Daredevils                67\n",
       "Sunrisers Hyderabad             58\n",
       "Deccan Chargers                 29\n",
       "Gujarat Lions                   13\n",
       "Pune Warriors                   12\n",
       "Delhi Capitals                  10\n",
       "Rising Pune Supergiant          10\n",
       "Kochi Tuskers Kerala             6\n",
       "Rising Pune Supergiants          5\n",
       "Name: winner, dtype: int64"
      ]
     },
     "execution_count": 35,
     "metadata": {},
     "output_type": "execute_result"
    }
   ],
   "source": [
    "# Lets check the total matches won by all the teams\n",
    "matches['winner'].value_counts()"
   ]
  },
  {
   "cell_type": "markdown",
   "id": "8b4519c6",
   "metadata": {},
   "source": [
    "### There is any Relation b/w winning a Toss and Winning a Match"
   ]
  },
  {
   "cell_type": "code",
   "execution_count": 36,
   "id": "56d8e35b",
   "metadata": {},
   "outputs": [
    {
     "name": "stdout",
     "output_type": "stream",
     "text": [
      "Percentage of matches where toss winner is not same as winner 48.02\n",
      "Percentage of matches where toss winner is same as winner 52.0\n"
     ]
    }
   ],
   "source": [
    "# Lets analyze what is the probability for a team to win if they win the toss\n",
    "not_same = matches[matches['toss_winner'] != matches['winner']]\n",
    "same = matches[matches['toss_winner'] == matches['winner']]\n",
    "\n",
    "print(\"Percentage of matches where toss winner is not same as winner\",round(not_same.shape[0]/matches.shape[0],4)*100)\n",
    "print(\"Percentage of matches where toss winner is same as winner\",round(same.shape[0]/matches.shape[0],2)*100)"
   ]
  },
  {
   "cell_type": "code",
   "execution_count": 37,
   "id": "b7b505a6",
   "metadata": {},
   "outputs": [
    {
     "data": {
      "text/html": [
       "<style  type=\"text/css\" >\n",
       "#T_12268_row0_col0{\n",
       "            background-color:  #800026;\n",
       "            color:  #f1f1f1;\n",
       "        }#T_12268_row1_col0{\n",
       "            background-color:  #ffe794;\n",
       "            color:  #000000;\n",
       "        }#T_12268_row2_col0,#T_12268_row3_col0{\n",
       "            background-color:  #ffeda0;\n",
       "            color:  #000000;\n",
       "        }#T_12268_row4_col0,#T_12268_row5_col0,#T_12268_row6_col0{\n",
       "            background-color:  #fff0a7;\n",
       "            color:  #000000;\n",
       "        }#T_12268_row7_col0,#T_12268_row8_col0{\n",
       "            background-color:  #fff5b3;\n",
       "            color:  #000000;\n",
       "        }#T_12268_row9_col0{\n",
       "            background-color:  #fff8ba;\n",
       "            color:  #000000;\n",
       "        }#T_12268_row10_col0{\n",
       "            background-color:  #fffdc6;\n",
       "            color:  #000000;\n",
       "        }#T_12268_row11_col0,#T_12268_row12_col0,#T_12268_row13_col0,#T_12268_row14_col0{\n",
       "            background-color:  #ffffcc;\n",
       "            color:  #000000;\n",
       "        }</style><table id=\"T_12268_\" ><thead>    <tr>        <th class=\"index_name level0\" >winner</th>        <th class=\"col_heading level0 col0\" >Mumbai Indians</th>    </tr>    <tr>        <th class=\"index_name level0\" >toss_winner</th>        <th class=\"blank\" ></th>    </tr></thead><tbody>\n",
       "                <tr>\n",
       "                        <th id=\"T_12268_level0_row0\" class=\"row_heading level0 row0\" >Mumbai Indians</th>\n",
       "                        <td id=\"T_12268_row0_col0\" class=\"data row0 col0\" >56</td>\n",
       "            </tr>\n",
       "            <tr>\n",
       "                        <th id=\"T_12268_level0_row1\" class=\"row_heading level0 row1\" >Delhi Daredevils</th>\n",
       "                        <td id=\"T_12268_row1_col0\" class=\"data row1 col0\" >9</td>\n",
       "            </tr>\n",
       "            <tr>\n",
       "                        <th id=\"T_12268_level0_row2\" class=\"row_heading level0 row2\" >Chennai Super Kings</th>\n",
       "                        <td id=\"T_12268_row2_col0\" class=\"data row2 col0\" >7</td>\n",
       "            </tr>\n",
       "            <tr>\n",
       "                        <th id=\"T_12268_level0_row3\" class=\"row_heading level0 row3\" >Kolkata Knight Riders</th>\n",
       "                        <td id=\"T_12268_row3_col0\" class=\"data row3 col0\" >7</td>\n",
       "            </tr>\n",
       "            <tr>\n",
       "                        <th id=\"T_12268_level0_row4\" class=\"row_heading level0 row4\" >Kings XI Punjab</th>\n",
       "                        <td id=\"T_12268_row4_col0\" class=\"data row4 col0\" >6</td>\n",
       "            </tr>\n",
       "            <tr>\n",
       "                        <th id=\"T_12268_level0_row5\" class=\"row_heading level0 row5\" >Rajasthan Royals</th>\n",
       "                        <td id=\"T_12268_row5_col0\" class=\"data row5 col0\" >6</td>\n",
       "            </tr>\n",
       "            <tr>\n",
       "                        <th id=\"T_12268_level0_row6\" class=\"row_heading level0 row6\" >Royal Challengers Bangalore</th>\n",
       "                        <td id=\"T_12268_row6_col0\" class=\"data row6 col0\" >6</td>\n",
       "            </tr>\n",
       "            <tr>\n",
       "                        <th id=\"T_12268_level0_row7\" class=\"row_heading level0 row7\" >Deccan Chargers</th>\n",
       "                        <td id=\"T_12268_row7_col0\" class=\"data row7 col0\" >4</td>\n",
       "            </tr>\n",
       "            <tr>\n",
       "                        <th id=\"T_12268_level0_row8\" class=\"row_heading level0 row8\" >Sunrisers Hyderabad</th>\n",
       "                        <td id=\"T_12268_row8_col0\" class=\"data row8 col0\" >4</td>\n",
       "            </tr>\n",
       "            <tr>\n",
       "                        <th id=\"T_12268_level0_row9\" class=\"row_heading level0 row9\" >Pune Warriors</th>\n",
       "                        <td id=\"T_12268_row9_col0\" class=\"data row9 col0\" >3</td>\n",
       "            </tr>\n",
       "            <tr>\n",
       "                        <th id=\"T_12268_level0_row10\" class=\"row_heading level0 row10\" >Gujarat Lions</th>\n",
       "                        <td id=\"T_12268_row10_col0\" class=\"data row10 col0\" >1</td>\n",
       "            </tr>\n",
       "            <tr>\n",
       "                        <th id=\"T_12268_level0_row11\" class=\"row_heading level0 row11\" >Delhi Capitals</th>\n",
       "                        <td id=\"T_12268_row11_col0\" class=\"data row11 col0\" >0</td>\n",
       "            </tr>\n",
       "            <tr>\n",
       "                        <th id=\"T_12268_level0_row12\" class=\"row_heading level0 row12\" >Kochi Tuskers Kerala</th>\n",
       "                        <td id=\"T_12268_row12_col0\" class=\"data row12 col0\" >0</td>\n",
       "            </tr>\n",
       "            <tr>\n",
       "                        <th id=\"T_12268_level0_row13\" class=\"row_heading level0 row13\" >Rising Pune Supergiant</th>\n",
       "                        <td id=\"T_12268_row13_col0\" class=\"data row13 col0\" >0</td>\n",
       "            </tr>\n",
       "            <tr>\n",
       "                        <th id=\"T_12268_level0_row14\" class=\"row_heading level0 row14\" >Rising Pune Supergiants</th>\n",
       "                        <td id=\"T_12268_row14_col0\" class=\"data row14 col0\" >0</td>\n",
       "            </tr>\n",
       "    </tbody></table>"
      ],
      "text/plain": [
       "<pandas.io.formats.style.Styler at 0x2082f241b20>"
      ]
     },
     "execution_count": 37,
     "metadata": {},
     "output_type": "execute_result"
    }
   ],
   "source": [
    "# Teams who won when they won the Toss\n",
    "def tosswin_wins(team):\n",
    "    x = pd.crosstab(matches['toss_winner'],matches['winner'])\n",
    "    return x[[team]].sort_values(by = team,ascending = False).style.background_gradient(cmap = 'YlOrRd')\n",
    "\n",
    "# Lets Check this function with Mumbai Indians\n",
    "tosswin_wins('Mumbai Indians')"
   ]
  },
  {
   "cell_type": "code",
   "execution_count": 38,
   "id": "fa3b1fc4",
   "metadata": {},
   "outputs": [
    {
     "data": {
      "application/vnd.jupyter.widget-view+json": {
       "model_id": "c62f36ed55a741d1a16f1b684b167ac3",
       "version_major": 2,
       "version_minor": 0
      },
      "text/plain": [
       "interactive(children=(Dropdown(description='team', options=('Mumbai Indians', 'Kings XI Punjab', 'Chennai Supe…"
      ]
     },
     "metadata": {},
     "output_type": "display_data"
    }
   ],
   "source": [
    "# Lets convert the above function into interactive\n",
    "\n",
    "@interact\n",
    "def tosswin_wins(team = matches['team1'].value_counts().index):\n",
    "    x = pd.crosstab(matches['toss_winner'],matches['winner'])\n",
    "    return x[[team]].sort_values(by = team,ascending = False).style.background_gradient(cmap = 'Oranges')"
   ]
  },
  {
   "cell_type": "markdown",
   "id": "4252b00b",
   "metadata": {},
   "source": [
    "# Checking the winnings location for all the Teams"
   ]
  },
  {
   "cell_type": "code",
   "execution_count": 39,
   "id": "855d2109",
   "metadata": {},
   "outputs": [
    {
     "data": {
      "text/plain": [
       "Mumbai            53\n",
       "Kolkata           10\n",
       "Bengaluru          9\n",
       "Hyderabad          7\n",
       "Chennai            5\n",
       "Chandigarh         4\n",
       "Delhi              4\n",
       "Pune               4\n",
       "Port Elizabeth     2\n",
       "Indore             2\n",
       "Jaipur             2\n",
       "Visakhapatnam      2\n",
       "Rajkot             1\n",
       "East London        1\n",
       "Centurion          1\n",
       "Cape Town          1\n",
       "Ahmedabad          1\n",
       "Name: city, dtype: int64"
      ]
     },
     "execution_count": 39,
     "metadata": {},
     "output_type": "execute_result"
    }
   ],
   "source": [
    "# Lets analyze all the locations where a Team won the Match\n",
    "\n",
    "def teams_winning_location(team):\n",
    "    x = matches[['winner','city']]\n",
    "    x = x[x['winner'] == team]\n",
    "    return x['city'].value_counts()\n",
    "             \n",
    "# Lets do the testing for Mumbai Indians\n",
    "teams_winning_location('Mumbai Indians')"
   ]
  },
  {
   "cell_type": "code",
   "execution_count": 40,
   "id": "2acd52a4",
   "metadata": {},
   "outputs": [
    {
     "data": {
      "text/plain": [
       "Mumbai Indians                 10\n",
       "Chennai Super Kings             5\n",
       "Royal Challengers Bangalore     4\n",
       "Kings XI Punjab                 3\n",
       "Gujarat Lions                   2\n",
       "Rajasthan Royals                2\n",
       "Sunrisers Hyderabad             2\n",
       "Delhi Daredevils                1\n",
       "Delhi Capitals                  1\n",
       "Rising Pune Supergiant          1\n",
       "Kochi Tuskers Kerala            1\n",
       "Name: winner, dtype: int64"
      ]
     },
     "execution_count": 40,
     "metadata": {},
     "output_type": "execute_result"
    }
   ],
   "source": [
    "# It seems that Kolkata is lucky place for Mumbai\n",
    "# Lets check How many Times other IPL Teams have won in kolkata\n",
    "\n",
    "a = matches[matches['city'] == 'Kolkata'][['winner']]\n",
    "a['winner'].value_counts().iloc[1:]"
   ]
  },
  {
   "cell_type": "markdown",
   "id": "40cf7bfe",
   "metadata": {},
   "source": [
    "# Check in which city all ipl teams won the maximum no of matches"
   ]
  },
  {
   "cell_type": "code",
   "execution_count": 41,
   "id": "1ea5125b",
   "metadata": {},
   "outputs": [
    {
     "data": {
      "application/vnd.jupyter.widget-view+json": {
       "model_id": "b88c0a962fc741b3b537c2a0974bcc13",
       "version_major": 2,
       "version_minor": 0
      },
      "text/plain": [
       "interactive(children=(Dropdown(description='team', options=('Mumbai Indians', 'Kings XI Punjab', 'Chennai Supe…"
      ]
     },
     "metadata": {},
     "output_type": "display_data"
    }
   ],
   "source": [
    "#Lets convert the abovefunction into Interactive\n",
    "\n",
    "@interact\n",
    "def winning_location(team = list(matches['team1'].value_counts().index)):\n",
    "    z = matches[['winner','city']]\n",
    "    z = z[z['winner'] == team]\n",
    "    return z['city'].value_counts()"
   ]
  },
  {
   "cell_type": "markdown",
   "id": "58f422f7",
   "metadata": {},
   "source": [
    "# Analyzing Toss Decisions in ipl matches"
   ]
  },
  {
   "cell_type": "code",
   "execution_count": 42,
   "id": "4a9c2d21",
   "metadata": {},
   "outputs": [
    {
     "data": {
      "text/plain": [
       "field    463\n",
       "bat      293\n",
       "Name: toss_decision, dtype: int64"
      ]
     },
     "execution_count": 42,
     "metadata": {},
     "output_type": "execute_result"
    }
   ],
   "source": [
    "# Lets see the types of toss decisions\n",
    "matches['toss_decision'].value_counts()"
   ]
  },
  {
   "cell_type": "markdown",
   "id": "4c2c4391",
   "metadata": {},
   "source": [
    "* Toss decision has some association with the result of the match"
   ]
  },
  {
   "cell_type": "markdown",
   "id": "2af9e713",
   "metadata": {},
   "source": [
    "### What is the probability of winning the match if the Toss winner chooses to \"field-first or bat-first\""
   ]
  },
  {
   "cell_type": "code",
   "execution_count": 43,
   "id": "6307a109",
   "metadata": {},
   "outputs": [
    {
     "name": "stdout",
     "output_type": "stream",
     "text": [
      "Percentage of matches where toss decision is field :  61.0\n",
      "Percentage of matches where toss decision is bat : 39.0\n"
     ]
    }
   ],
   "source": [
    "# Probability of team to win if they choose to field or bat\n",
    "\n",
    "field  = matches[matches['toss_decision'] == 'field']\n",
    "bat = matches[matches['toss_decision'] == 'bat']\n",
    "\n",
    "print(\"Percentage of matches where toss decision is field : \",round(field.shape[0]/matches.shape[0],2)*100)\n",
    "print(\"Percentage of matches where toss decision is bat :\",round(bat.shape[0]/matches.shape[0],2)*100)"
   ]
  },
  {
   "cell_type": "code",
   "execution_count": 44,
   "id": "60bed328",
   "metadata": {},
   "outputs": [
    {
     "data": {
      "image/png": "[encoded data removed]",
      "text/plain": [
       "<Figure size 1080x432 with 1 Axes>"
      ]
     },
     "metadata": {},
     "output_type": "display_data"
    }
   ],
   "source": [
    "# Lets check how many times the ipl teams won the toss\n",
    "\n",
    "sns.countplot(y=matches['toss_winner'],\n",
    "             palette = 'cividis')\n",
    "plt.title('Teams with Most Toss wins \\n',fontsize = 20)\n",
    "plt.ylabel(' ')\n",
    "plt.xlabel(' ')\n",
    "plt.show()"
   ]
  },
  {
   "cell_type": "code",
   "execution_count": 45,
   "id": "757dbc1c",
   "metadata": {},
   "outputs": [
    {
     "name": "stderr",
     "output_type": "stream",
     "text": [
      "C:\\Users\\user\\anaconda3\\lib\\site-packages\\seaborn\\_decorators.py:36: FutureWarning: Pass the following variable as a keyword arg: x. From version 0.12, the only valid positional argument will be `data`, and passing other arguments without an explicit keyword will result in an error or misinterpretation.\n",
      "  warnings.warn(\n"
     ]
    },
    {
     "data": {
      "image/png": "[encoded data removed]",
      "text/plain": [
       "<Figure size 1080x360 with 1 Axes>"
      ]
     },
     "metadata": {},
     "output_type": "display_data"
    }
   ],
   "source": [
    "# Lets compare the Toss Decisions\n",
    "\n",
    "plt.rcParams['figure.figsize'] = (15,5)\n",
    "sns.countplot(matches['Season'].sort_values(),hue = matches['toss_decision'],palette = 'cividis')\n",
    "plt.title('Teams with Most Toss wins \\n',fontsize = 20)\n",
    "plt.ylabel(' ')\n",
    "plt.xlabel(' ')\n",
    "plt.show()"
   ]
  },
  {
   "cell_type": "code",
   "execution_count": 46,
   "id": "d19d6178",
   "metadata": {},
   "outputs": [
    {
     "data": {
      "application/vnd.jupyter.widget-view+json": {
       "model_id": "d55becaef15d4ce79f7e9a07fe7945c1",
       "version_major": 2,
       "version_minor": 0
      },
      "text/plain": [
       "interactive(children=(Dropdown(description='team', options=('Mumbai Indians', 'Kolkata Knight Riders', 'Chenna…"
      ]
     },
     "metadata": {},
     "output_type": "display_data"
    }
   ],
   "source": [
    "# Lets see How the ipl teams decide,weather to field or Bat\n",
    "\n",
    "@interact\n",
    "def toss_decision(team = list(matches['toss_winner'].value_counts().index),):\n",
    "    x = matches[matches['toss_winner'] == team]\n",
    "    return x['toss_decision'].value_counts()"
   ]
  },
  {
   "cell_type": "markdown",
   "id": "c8e4bfa1",
   "metadata": {},
   "source": [
    "# What is DL in an IPL match"
   ]
  },
  {
   "cell_type": "code",
   "execution_count": 47,
   "id": "79db45a5",
   "metadata": {},
   "outputs": [
    {
     "name": "stdout",
     "output_type": "stream",
     "text": [
      "Percentage of matches where DL is applied :  3.0\n",
      "Percentage of matches where DL is not applied : 97.0\n"
     ]
    }
   ],
   "source": [
    "# Lets check the percentage of Matches where DL is applied\n",
    "\n",
    "dl_applied_no = matches[matches['dl_applied'] ==0]\n",
    "dl_applied_yes = matches[matches['dl_applied'] == 1]\n",
    "\n",
    "print(\"Percentage of matches where DL is applied : \", round(dl_applied_yes.shape[0]/matches.shape[0],2)*100)\n",
    "print(\"Percentage of matches where DL is not applied :\",round(dl_applied_no.shape[0]/matches.shape[0],2)*100)"
   ]
  },
  {
   "cell_type": "code",
   "execution_count": 48,
   "id": "7659ce47",
   "metadata": {},
   "outputs": [
    {
     "data": {
      "text/plain": [
       "Kolkata Knight Riders          4\n",
       "Royal Challengers Bangalore    3\n",
       "Kings XI Punjab                2\n",
       "Rising Pune Supergiants        2\n",
       "Sunrisers Hyderabad            2\n",
       "Delhi Daredevils               2\n",
       "Chennai Super Kings            2\n",
       "Rajasthan Royals               1\n",
       "Kochi Tuskers Kerala           1\n",
       "Name: winner, dtype: int64"
      ]
     },
     "execution_count": 48,
     "metadata": {},
     "output_type": "execute_result"
    }
   ],
   "source": [
    "# Lets check the winner of those Matches where DL is applied\n",
    "\n",
    "a = matches[matches['dl_applied'] == 1]\n",
    "a['winner'].value_counts()"
   ]
  },
  {
   "cell_type": "code",
   "execution_count": 49,
   "id": "85b60cce",
   "metadata": {},
   "outputs": [
    {
     "data": {
      "text/html": [
       "<div>\n",
       "<style scoped>\n",
       "    .dataframe tbody tr th:only-of-type {\n",
       "        vertical-align: middle;\n",
       "    }\n",
       "\n",
       "    .dataframe tbody tr th {\n",
       "        vertical-align: top;\n",
       "    }\n",
       "\n",
       "    .dataframe thead th {\n",
       "        text-align: right;\n",
       "    }\n",
       "</style>\n",
       "<table border=\"1\" class=\"dataframe\">\n",
       "  <thead>\n",
       "    <tr style=\"text-align: right;\">\n",
       "      <th></th>\n",
       "      <th>Season</th>\n",
       "      <th>team1</th>\n",
       "      <th>team2</th>\n",
       "      <th>winner</th>\n",
       "    </tr>\n",
       "  </thead>\n",
       "  <tbody>\n",
       "    <tr>\n",
       "      <th>56</th>\n",
       "      <td>IPL-2017</td>\n",
       "      <td>Sunrisers Hyderabad</td>\n",
       "      <td>Kolkata Knight Riders</td>\n",
       "      <td>Kolkata Knight Riders</td>\n",
       "    </tr>\n",
       "    <tr>\n",
       "      <th>99</th>\n",
       "      <td>IPL-2008</td>\n",
       "      <td>Delhi Daredevils</td>\n",
       "      <td>Kings XI Punjab</td>\n",
       "      <td>Kings XI Punjab</td>\n",
       "    </tr>\n",
       "    <tr>\n",
       "      <th>102</th>\n",
       "      <td>IPL-2008</td>\n",
       "      <td>Kolkata Knight Riders</td>\n",
       "      <td>Chennai Super Kings</td>\n",
       "      <td>Chennai Super Kings</td>\n",
       "    </tr>\n",
       "    <tr>\n",
       "      <th>119</th>\n",
       "      <td>IPL-2009</td>\n",
       "      <td>Kings XI Punjab</td>\n",
       "      <td>Delhi Daredevils</td>\n",
       "      <td>Delhi Daredevils</td>\n",
       "    </tr>\n",
       "    <tr>\n",
       "      <th>122</th>\n",
       "      <td>IPL-2009</td>\n",
       "      <td>Kings XI Punjab</td>\n",
       "      <td>Kolkata Knight Riders</td>\n",
       "      <td>Kolkata Knight Riders</td>\n",
       "    </tr>\n",
       "    <tr>\n",
       "      <th>148</th>\n",
       "      <td>IPL-2009</td>\n",
       "      <td>Chennai Super Kings</td>\n",
       "      <td>Kings XI Punjab</td>\n",
       "      <td>Chennai Super Kings</td>\n",
       "    </tr>\n",
       "    <tr>\n",
       "      <th>251</th>\n",
       "      <td>IPL-2011</td>\n",
       "      <td>Chennai Super Kings</td>\n",
       "      <td>Kochi Tuskers Kerala</td>\n",
       "      <td>Kochi Tuskers Kerala</td>\n",
       "    </tr>\n",
       "    <tr>\n",
       "      <th>280</th>\n",
       "      <td>IPL-2011</td>\n",
       "      <td>Chennai Super Kings</td>\n",
       "      <td>Kolkata Knight Riders</td>\n",
       "      <td>Kolkata Knight Riders</td>\n",
       "    </tr>\n",
       "    <tr>\n",
       "      <th>290</th>\n",
       "      <td>IPL-2011</td>\n",
       "      <td>Kolkata Knight Riders</td>\n",
       "      <td>Royal Challengers Bangalore</td>\n",
       "      <td>Royal Challengers Bangalore</td>\n",
       "    </tr>\n",
       "    <tr>\n",
       "      <th>488</th>\n",
       "      <td>IPL-2014</td>\n",
       "      <td>Delhi Daredevils</td>\n",
       "      <td>Sunrisers Hyderabad</td>\n",
       "      <td>Sunrisers Hyderabad</td>\n",
       "    </tr>\n",
       "    <tr>\n",
       "      <th>536</th>\n",
       "      <td>IPL-2015</td>\n",
       "      <td>Sunrisers Hyderabad</td>\n",
       "      <td>Kolkata Knight Riders</td>\n",
       "      <td>Sunrisers Hyderabad</td>\n",
       "    </tr>\n",
       "    <tr>\n",
       "      <th>567</th>\n",
       "      <td>IPL-2015</td>\n",
       "      <td>Sunrisers Hyderabad</td>\n",
       "      <td>Royal Challengers Bangalore</td>\n",
       "      <td>Royal Challengers Bangalore</td>\n",
       "    </tr>\n",
       "    <tr>\n",
       "      <th>597</th>\n",
       "      <td>IPL-2016</td>\n",
       "      <td>Sunrisers Hyderabad</td>\n",
       "      <td>Rising Pune Supergiants</td>\n",
       "      <td>Rising Pune Supergiants</td>\n",
       "    </tr>\n",
       "    <tr>\n",
       "      <th>620</th>\n",
       "      <td>IPL-2016</td>\n",
       "      <td>Rising Pune Supergiants</td>\n",
       "      <td>Kolkata Knight Riders</td>\n",
       "      <td>Kolkata Knight Riders</td>\n",
       "    </tr>\n",
       "    <tr>\n",
       "      <th>624</th>\n",
       "      <td>IPL-2016</td>\n",
       "      <td>Delhi Daredevils</td>\n",
       "      <td>Rising Pune Supergiants</td>\n",
       "      <td>Rising Pune Supergiants</td>\n",
       "    </tr>\n",
       "    <tr>\n",
       "      <th>625</th>\n",
       "      <td>IPL-2016</td>\n",
       "      <td>Royal Challengers Bangalore</td>\n",
       "      <td>Kings XI Punjab</td>\n",
       "      <td>Royal Challengers Bangalore</td>\n",
       "    </tr>\n",
       "    <tr>\n",
       "      <th>641</th>\n",
       "      <td>IPL-2018</td>\n",
       "      <td>Rajasthan Royals</td>\n",
       "      <td>Delhi Daredevils</td>\n",
       "      <td>Rajasthan Royals</td>\n",
       "    </tr>\n",
       "    <tr>\n",
       "      <th>653</th>\n",
       "      <td>IPL-2018</td>\n",
       "      <td>Kolkata Knight Riders</td>\n",
       "      <td>Kings XI Punjab</td>\n",
       "      <td>Kings XI Punjab</td>\n",
       "    </tr>\n",
       "    <tr>\n",
       "      <th>667</th>\n",
       "      <td>IPL-2018</td>\n",
       "      <td>Delhi Daredevils</td>\n",
       "      <td>Rajasthan Royals</td>\n",
       "      <td>Delhi Daredevils</td>\n",
       "    </tr>\n",
       "  </tbody>\n",
       "</table>\n",
       "</div>"
      ],
      "text/plain": [
       "       Season                        team1                        team2  \\\n",
       "56   IPL-2017          Sunrisers Hyderabad        Kolkata Knight Riders   \n",
       "99   IPL-2008             Delhi Daredevils              Kings XI Punjab   \n",
       "102  IPL-2008        Kolkata Knight Riders          Chennai Super Kings   \n",
       "119  IPL-2009              Kings XI Punjab             Delhi Daredevils   \n",
       "122  IPL-2009              Kings XI Punjab        Kolkata Knight Riders   \n",
       "148  IPL-2009          Chennai Super Kings              Kings XI Punjab   \n",
       "251  IPL-2011          Chennai Super Kings         Kochi Tuskers Kerala   \n",
       "280  IPL-2011          Chennai Super Kings        Kolkata Knight Riders   \n",
       "290  IPL-2011        Kolkata Knight Riders  Royal Challengers Bangalore   \n",
       "488  IPL-2014             Delhi Daredevils          Sunrisers Hyderabad   \n",
       "536  IPL-2015          Sunrisers Hyderabad        Kolkata Knight Riders   \n",
       "567  IPL-2015          Sunrisers Hyderabad  Royal Challengers Bangalore   \n",
       "597  IPL-2016          Sunrisers Hyderabad      Rising Pune Supergiants   \n",
       "620  IPL-2016      Rising Pune Supergiants        Kolkata Knight Riders   \n",
       "624  IPL-2016             Delhi Daredevils      Rising Pune Supergiants   \n",
       "625  IPL-2016  Royal Challengers Bangalore              Kings XI Punjab   \n",
       "641  IPL-2018             Rajasthan Royals             Delhi Daredevils   \n",
       "653  IPL-2018        Kolkata Knight Riders              Kings XI Punjab   \n",
       "667  IPL-2018             Delhi Daredevils             Rajasthan Royals   \n",
       "\n",
       "                          winner  \n",
       "56         Kolkata Knight Riders  \n",
       "99               Kings XI Punjab  \n",
       "102          Chennai Super Kings  \n",
       "119             Delhi Daredevils  \n",
       "122        Kolkata Knight Riders  \n",
       "148          Chennai Super Kings  \n",
       "251         Kochi Tuskers Kerala  \n",
       "280        Kolkata Knight Riders  \n",
       "290  Royal Challengers Bangalore  \n",
       "488          Sunrisers Hyderabad  \n",
       "536          Sunrisers Hyderabad  \n",
       "567  Royal Challengers Bangalore  \n",
       "597      Rising Pune Supergiants  \n",
       "620        Kolkata Knight Riders  \n",
       "624      Rising Pune Supergiants  \n",
       "625  Royal Challengers Bangalore  \n",
       "641             Rajasthan Royals  \n",
       "653              Kings XI Punjab  \n",
       "667             Delhi Daredevils  "
      ]
     },
     "execution_count": 49,
     "metadata": {},
     "output_type": "execute_result"
    }
   ],
   "source": [
    "# Lets also check the complete data of those Matches where DL is applied\n",
    "matches[matches['dl_applied'] == 1][['Season','team1','team2','winner']]"
   ]
  },
  {
   "cell_type": "markdown",
   "id": "385f71aa",
   "metadata": {},
   "source": [
    "# Key Insights from the Project\n",
    "* Summarized intresting facts from the data\n",
    "* Unique number of teams playing in the ipl\n",
    "* Cities where IPL matches has been played\n",
    "* Best player of the IPL ,and BIggest Mathes of the IPL\n",
    "* Analyzed IPL locations\n",
    "* Effect of toss decision on match result\n",
    "* Learnt about DL"
   ]
  },
  {
   "cell_type": "code",
   "execution_count": null,
   "id": "58c26063",
   "metadata": {},
   "outputs": [],
   "source": []
  }
 ],
 "metadata": {
  "kernelspec": {
   "display_name": "Python 3",
   "language": "python",
   "name": "python3"
  },
  "language_info": {
   "codemirror_mode": {
    "name": "ipython",
    "version": 3
   },
   "file_extension": ".py",
   "mimetype": "text/x-python",
   "name": "python",
   "nbconvert_exporter": "python",
   "pygments_lexer": "ipython3",
   "version": "3.8.8"
  }
 },
 "nbformat": 4,
 "nbformat_minor": 5
}
